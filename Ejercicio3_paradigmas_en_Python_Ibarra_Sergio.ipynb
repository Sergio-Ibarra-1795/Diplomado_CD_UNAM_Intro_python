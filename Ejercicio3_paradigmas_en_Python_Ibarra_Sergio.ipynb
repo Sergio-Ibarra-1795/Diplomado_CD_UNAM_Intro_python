{
 "cells": [
  {
   "cell_type": "markdown",
   "id": "f07afa96",
   "metadata": {},
   "source": [
    "### Ejemplo de calculo de el área de un circulo dado el radio para varios paradigmas"
   ]
  },
  {
   "cell_type": "markdown",
   "id": "2c017f5c",
   "metadata": {},
   "source": [
    "Here's an example in Python using the functional paradigm to calculate the area of a circle given the radius:"
   ]
  },
  {
   "cell_type": "code",
   "execution_count": 1,
   "id": "d71de61d",
   "metadata": {},
   "outputs": [],
   "source": [
    "from math import pi\n",
    "\n",
    "def circle_area(radius):\n",
    "    \"\"\"Calculate the area of a circle given the radius.\"\"\"\n",
    "    return pi * radius ** 2\n"
   ]
  },
  {
   "cell_type": "code",
   "execution_count": 2,
   "id": "0ced6d67",
   "metadata": {},
   "outputs": [
    {
     "data": {
      "text/plain": [
       "12.566370614359172"
      ]
     },
     "execution_count": 2,
     "metadata": {},
     "output_type": "execute_result"
    }
   ],
   "source": [
    "circle_area(2)\n"
   ]
  },
  {
   "cell_type": "markdown",
   "id": "bc3afdc4",
   "metadata": {},
   "source": [
    "Here's an example in Python using the object-oriented paradigm to calculate the area of a circle given the radius:"
   ]
  },
  {
   "cell_type": "code",
   "execution_count": 3,
   "id": "d49c7099",
   "metadata": {},
   "outputs": [],
   "source": [
    "from math import pi\n",
    "\n",
    "class Circle:\n",
    "    def __init__(self, radius):\n",
    "        self.radius = radius\n",
    "\n",
    "    def area(self):\n",
    "        return pi * self.radius ** 2\n"
   ]
  },
  {
   "cell_type": "code",
   "execution_count": 4,
   "id": "5a1dbb20",
   "metadata": {},
   "outputs": [
    {
     "data": {
      "text/plain": [
       "12.566370614359172"
      ]
     },
     "execution_count": 4,
     "metadata": {},
     "output_type": "execute_result"
    }
   ],
   "source": [
    "c = Circle(2)\n",
    "c.area()\n",
    "\n"
   ]
  },
  {
   "cell_type": "code",
   "execution_count": null,
   "id": "64d9c9b5",
   "metadata": {},
   "outputs": [],
   "source": []
  },
  {
   "cell_type": "markdown",
   "id": "a1c10bd7",
   "metadata": {},
   "source": [
    "Here's an example in Python using the procedural paradigm to calculate the area of a circle given the radius:"
   ]
  },
  {
   "cell_type": "code",
   "execution_count": 5,
   "id": "8425cb9e",
   "metadata": {},
   "outputs": [],
   "source": [
    "from math import pi\n",
    "\n",
    "def circle_area(radius):\n",
    "    \"\"\"Calculate the area of a circle given the radius.\"\"\"\n",
    "    area = pi * radius ** 2\n",
    "    return area\n"
   ]
  },
  {
   "cell_type": "code",
   "execution_count": 6,
   "id": "97906272",
   "metadata": {},
   "outputs": [
    {
     "name": "stdout",
     "output_type": "stream",
     "text": [
      "12.566370614359172\n"
     ]
    }
   ],
   "source": [
    "area = circle_area(2)\n",
    "print(area)\n",
    "\n"
   ]
  },
  {
   "cell_type": "code",
   "execution_count": null,
   "id": "d8e75705",
   "metadata": {},
   "outputs": [],
   "source": []
  },
  {
   "cell_type": "markdown",
   "id": "339523ac",
   "metadata": {},
   "source": [
    "### Creando mi propia clase "
   ]
  },
  {
   "cell_type": "code",
   "execution_count": null,
   "id": "5b43df96",
   "metadata": {},
   "outputs": [],
   "source": []
  },
  {
   "cell_type": "code",
   "execution_count": null,
   "id": "ea675782",
   "metadata": {},
   "outputs": [],
   "source": []
  },
  {
   "cell_type": "code",
   "execution_count": 21,
   "id": "37bd2581",
   "metadata": {},
   "outputs": [],
   "source": [
    "class Equipo: \n",
    "    def __init__(self,name,position):\n",
    "        self.name = name\n",
    "        self.position = position\n",
    "    \n",
    "    def presentar(self):\n",
    "        print( \"El equipo seleccionado fue\", self.name, \"y está en la posición\", self.position)"
   ]
  },
  {
   "cell_type": "code",
   "execution_count": 22,
   "id": "c29d1ddf",
   "metadata": {},
   "outputs": [
    {
     "name": "stdout",
     "output_type": "stream",
     "text": [
      "El equipo seleccionado fue Pumas y está en la posición 1\n"
     ]
    }
   ],
   "source": [
    "pumas = Equipo('Pumas',1)\n",
    "pumas.presentar()"
   ]
  },
  {
   "cell_type": "markdown",
   "id": "6c7b1bbe",
   "metadata": {},
   "source": [
    "##### Ejemplo de creación de clases que usen listas y diccionarios "
   ]
  },
  {
   "cell_type": "markdown",
   "id": "c5aa73e5",
   "metadata": {},
   "source": [
    "Here's an example of how you can modify the Equipo class to accept a list of teams and a list of positions as parameters, and how to use the presentar method to display information about a single team in the list:"
   ]
  },
  {
   "cell_type": "markdown",
   "id": "e4388eb2",
   "metadata": {},
   "source": [
    "Entonces notar como se inicializa la lista llamada: self.equipos = []. Esta es una lista que estará compuesta por dicionarios, cada dicionario es un equipo con su posicion. "
   ]
  },
  {
   "cell_type": "markdown",
   "id": "1c4c1339",
   "metadata": {},
   "source": [
    "Entonces, se van definiendo los equipos haciendo de 0/1 hasta el lenght de la lista que se defina como parámetro/input para la clase equipos. Entonces se va construyendo coda elemento de la lista self.equipos como un diciconarion con llave \"name\" y llave \"position\""
   ]
  },
  {
   "cell_type": "markdown",
   "id": "dd5300b0",
   "metadata": {},
   "source": [
    "Para \"llamar\" a un equipo determinado, se debe acceder al index que se quiere, por ello los parámetros del método presentar son lo self y el index. Una vez accediendo al elemento determinado se accede a sus valores como se hace normal en un diccionaio dicionary_name['key']"
   ]
  },
  {
   "cell_type": "code",
   "execution_count": 28,
   "id": "6f624506",
   "metadata": {},
   "outputs": [],
   "source": [
    "class Equipo:\n",
    "    def __init__(self, names, positions):\n",
    "        self.equipos = []\n",
    "        for i in range(len(names)):\n",
    "            equipo = {\"name\": names[i], \"position\": positions[i]}\n",
    "            self.equipos.append(equipo)\n",
    "    \n",
    "    def presentar(self, index):\n",
    "        equipo = self.equipos[index]\n",
    "        print(\"El equipo seleccionado fue\", equipo[\"name\"], \"y está en la posición\", equipo[\"position\"])\n",
    "\n"
   ]
  },
  {
   "cell_type": "code",
   "execution_count": 29,
   "id": "be5e33c8",
   "metadata": {},
   "outputs": [
    {
     "name": "stdout",
     "output_type": "stream",
     "text": [
      "El equipo seleccionado fue América y está en la posición 3\n"
     ]
    }
   ],
   "source": [
    "# Example usage:\n",
    "names = [\"Pumas\", \"Cruz Azul\", \"América\", \"Chivas\"]\n",
    "positions = [1, 2, 3, 4]\n",
    "equipos = Equipo(names, positions)\n",
    "equipos.presentar(2)\n"
   ]
  },
  {
   "cell_type": "code",
   "execution_count": null,
   "id": "8d7e79bb",
   "metadata": {},
   "outputs": [],
   "source": []
  }
 ],
 "metadata": {
  "kernelspec": {
   "display_name": "Python 3 (ipykernel)",
   "language": "python",
   "name": "python3"
  },
  "language_info": {
   "codemirror_mode": {
    "name": "ipython",
    "version": 3
   },
   "file_extension": ".py",
   "mimetype": "text/x-python",
   "name": "python",
   "nbconvert_exporter": "python",
   "pygments_lexer": "ipython3",
   "version": "3.9.13"
  }
 },
 "nbformat": 4,
 "nbformat_minor": 5
}
