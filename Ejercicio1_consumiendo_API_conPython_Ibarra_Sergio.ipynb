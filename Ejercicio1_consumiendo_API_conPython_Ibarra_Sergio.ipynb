{
 "cells": [
  {
   "cell_type": "code",
   "execution_count": null,
   "id": "2a550cf7",
   "metadata": {},
   "outputs": [],
   "source": [
    "## CONSUMIENDO UNA API CON PYTHON "
   ]
  },
  {
   "cell_type": "code",
   "execution_count": 2,
   "id": "19797b55",
   "metadata": {},
   "outputs": [],
   "source": [
    "#### Ejemplo 1 usando request.get "
   ]
  },
  {
   "cell_type": "markdown",
   "id": "a221bfca",
   "metadata": {},
   "source": [
    "We will consume the news API: https://newsapi.org/"
   ]
  },
  {
   "cell_type": "markdown",
   "id": "d4ed1c8f",
   "metadata": {},
   "source": [
    "To consume APIs with Python, we need to install the library called request, so pip install request "
   ]
  },
  {
   "cell_type": "code",
   "execution_count": 2,
   "id": "b8eec100",
   "metadata": {},
   "outputs": [
    {
     "name": "stdout",
     "output_type": "stream",
     "text": [
      "Defaulting to user installation because normal site-packages is not writeable\n",
      "Requirement already satisfied: requests in c:\\programdata\\anaconda3\\lib\\site-packages (2.28.1)\n",
      "Requirement already satisfied: urllib3<1.27,>=1.21.1 in c:\\programdata\\anaconda3\\lib\\site-packages (from requests) (1.26.11)\n",
      "Requirement already satisfied: charset-normalizer<3,>=2 in c:\\programdata\\anaconda3\\lib\\site-packages (from requests) (2.0.4)\n",
      "Requirement already satisfied: certifi>=2017.4.17 in c:\\programdata\\anaconda3\\lib\\site-packages (from requests) (2022.9.14)\n",
      "Requirement already satisfied: idna<4,>=2.5 in c:\\programdata\\anaconda3\\lib\\site-packages (from requests) (3.3)\n",
      "Note: you may need to restart the kernel to use updated packages.\n"
     ]
    }
   ],
   "source": [
    "pip install requests"
   ]
  },
  {
   "cell_type": "code",
   "execution_count": 2,
   "id": "3fd8099f",
   "metadata": {},
   "outputs": [],
   "source": [
    "import requests"
   ]
  },
  {
   "cell_type": "markdown",
   "id": "64378d44",
   "metadata": {},
   "source": [
    "We define the endpoint of the API where we will \"consume\" the info, and in this case we also need to register and have an API Key "
   ]
  },
  {
   "cell_type": "code",
   "execution_count": 11,
   "id": "c5f63f69",
   "metadata": {},
   "outputs": [
    {
     "data": {
      "text/plain": [
       "'https://newsapi.org/v2/top-headlines?country=us&category=business&apiKey=5981db7c44d644cdbd36f22175c165ff'"
      ]
     },
     "execution_count": 11,
     "metadata": {},
     "output_type": "execute_result"
    }
   ],
   "source": [
    "api_key = '5981db7c44d644cdbd36f22175c165ff'  # Replace this with your actual NewsAPI key\n",
    "\n",
    "url1 = f'https://newsapi.org/v2/top-headlines?country=us&category=business&apiKey={api_key}'\n",
    "url1\n"
   ]
  },
  {
   "cell_type": "markdown",
   "id": "baf0e872",
   "metadata": {},
   "source": [
    "We actually \"consume\"/get/fetch the information from the specific defined endpoint "
   ]
  },
  {
   "cell_type": "code",
   "execution_count": 22,
   "id": "cf783c4b",
   "metadata": {},
   "outputs": [
    {
     "name": "stdout",
     "output_type": "stream",
     "text": [
      "200\n"
     ]
    },
    {
     "data": {
      "text/plain": [
       "requests.models.Response"
      ]
     },
     "execution_count": 22,
     "metadata": {},
     "output_type": "execute_result"
    }
   ],
   "source": [
    "response1 = requests.get(url1)\n",
    "print(response1.status_code)\n",
    "type(response1)"
   ]
  },
  {
   "cell_type": "code",
   "execution_count": 19,
   "id": "21194d73",
   "metadata": {},
   "outputs": [
    {
     "name": "stdout",
     "output_type": "stream",
     "text": [
      "{'status': 'ok', 'totalResults': 69, 'articles': [{'source': {'id': None, 'name': 'BBC News'}, 'author': 'https://www.facebook.com/bbcnews', 'title': 'Price of a cuppa: Sexual abuse on Kenyan tea farms revealed - BBC', 'description': \"Secret filming finds sexual exploitation at Kenyan farms supplying some of the UK's biggest brands.\", 'url': 'https://www.bbc.com/news/uk-64662056', 'urlToImage': 'https://ichef.bbci.co.uk/news/1024/branded_news/10D85/production/_128679986_red-label-pg-tips.jpg', 'publishedAt': '2023-02-20T05:53:07Z', 'content': \"Media caption, Sexual harassment caught on hidden camera in Kenya\\r\\nSexual exploitation has been uncovered on tea farms that supply some of the UK's most popular brands, including PG Tips, Lipton and … [+5389 chars]\"}, {'source': {'id': 'financial-times', 'name': 'Financial Times'}, 'author': 'Laurence Fletcher', 'title': 'Hedge fund Galois shuts down after half its assets trapped on FTX - Financial Times', 'description': 'Co-founder Kevin Zhou says fund is no longer viable and sells claim on collapsed crypto exchange for 16 cents on dollar', 'url': 'https://www.ft.com/content/a06b77bc-52ac-4901-98d7-8c567449262e', 'urlToImage': 'https://www.ft.com/__origami/service/image/v2/images/raw/https%3A%2F%2Fd1e00ek4ebabms.cloudfront.net%2Fproduction%2F1cbf9d7c-0295-49d9-bfc6-daa876738bd6.jpg?source=next-opengraph&fit=scale-down&width=900', 'publishedAt': '2023-02-20T05:01:13Z', 'content': 'A hedge fund that was one of the highest profile victims of the FTX scandal when half its assets were trapped on the collapsed cryptocurrency exchange has decided to close and return its remaining mo… [+2455 chars]'}, {'source': {'id': None, 'name': 'CNBC'}, 'author': 'Jihye Lee', 'title': 'Reopening to recovery: Goldman Sachs sees China stocks surging as much as 24% by end of 2023 - CNBC', 'description': 'Goldman Sachs strategists see an economic shift from \"reopening to recovery\" driving Chinese stocks 24% higher by the end of this year.', 'url': 'https://www.cnbc.com/2023/02/20/goldman-sachs-sees-china-stocks-surging-by-end-2023.html', 'urlToImage': 'https://image.cnbcfm.com/api/v1/image/107197085-1676866120404-gettyimages-1464674063-vcg111421719183.jpeg?v=1676869211&w=1920&h=1080', 'publishedAt': '2023-02-20T05:00:11Z', 'content': 'Goldman Sachs strategists see an economic shift from \"reopening to recovery\" driving Chinese stocks as much as 24% higher by the end of this year.\\r\\nThe firm sees a potential 24% upside to the MSCI Ch… [+2259 chars]'}, {'source': {'id': None, 'name': 'Cointelegraph'}, 'author': 'William Suberg', 'title': 'Bitcoin continues to ‘mirror’ 2017 as weekend sees third attack on $25K - Cointelegraph', 'description': 'Bitcoin order book analysis flags whales shifting BTC price higher as $25,000 reappears.', 'url': 'https://cointelegraph.com/news/bitcoin-continues-to-mirror-2017-as-weekend-sees-third-attack-on-25k', 'urlToImage': 'https://s3.cointelegraph.com/uploads/2023-02/5aa38aba-7f94-4b5a-b148-51b144ecf63d.jpg', 'publishedAt': '2023-02-20T04:01:56Z', 'content': 'Bitcoin (BTC) tapped $25,000 for a third time on Feb. 19 as an all-important weekly close approached.\\r\\nBTC/USD 1-hour candle chart (Bitstamp). Source: TradingView\\r\\nAnalysis warns over whale moves\\r\\nDa… [+2606 chars]'}, {'source': {'id': None, 'name': 'CNBC'}, 'author': 'Evelyn Cheng', 'title': 'China formalizes rules for overseas IPOs - CNBC', 'description': 'The new rules also call for IPO underwriters, typically international investment banks, to annually report to the CSRC their involvement with Chinese listings overseas.', 'url': 'https://www.cnbc.com/2023/02/20/china-formalizes-rules-for-overseas-ipos.html', 'urlToImage': 'https://image.cnbcfm.com/api/v1/image/107197077-1676863078604-gettyimages-1286064699-vcg111306805312.jpeg?v=1676863173&w=1920&h=1080', 'publishedAt': '2023-02-20T03:19:00Z', 'content': 'BEIJING China-based companies now have more clarity on whether they can list overseas in the U.S.\\r\\nThe China Securities Regulatory Commission announced late Friday new rules that require domestic com… [+1539 chars]'}, {'source': {'id': None, 'name': 'CoinDesk'}, 'author': 'Sam Reynolds', 'title': 'First Mover Asia: Bitcoin Opens the Week Testing $25K - CoinDesk', 'description': 'ALSO: Hong Kong unveils its new crypto licensing framework for Virtual Asset Service Providers in June, but the regulation will not allow retail investors to trade digital, contrary to what a recent tweet suggests. The regulation focuses on accredited, profes…', 'url': 'https://www.coindesk.com/markets/2023/02/20/first-mover-asia-bitcoin-opens-the-week-testing-25k/', 'urlToImage': 'https://www.coindesk.com/resizer/O4aaqWPIoy-JLVBJ0lO9deoRMbI=/1200x628/center/middle/cloudfront-us-east-1.images.arcpublishing.com/coindesk/2RWS7XWQFVECPCHT4OAPXVISOA.jpg', 'publishedAt': '2023-02-20T02:54:00Z', 'content': None}, {'source': {'id': None, 'name': 'NDTV News'}, 'author': None, 'title': 'ChatGPT Calls Elon Musk \"Controversial\", Billionaire Reacts - NDTV', 'description': \"ChatGPT also said that these public figures should be treated in a 'special manner.'\", 'url': 'https://www.ndtv.com/feature/chatgpt-calls-elon-musk-controversial-billionaire-reacts-3796933', 'urlToImage': 'https://c.ndtvimg.com/2022-12/i5bcj6mo_elon-musk-650_625x300_13_December_22.jpg', 'publishedAt': '2023-02-20T02:49:46Z', 'content': 'The list shared by Issac Latterell\\r\\nTwitter boss Elon Musk recently reacted to a social media post\\xa0on the microblogging site. The Tesla CEO responded to a post shared by Issac Latterell that indicate… [+1674 chars]'}, {'source': {'id': None, 'name': 'Slashdot.org'}, 'author': None, 'title': \"The Washington Post Says There's 'No Real Reason' to Use a VPN - Slashdot\", 'description': 'Some people try to hide parts of their email address from online scrapers by spelling out \"at\" and \"dot,\" notes a Washington Post technology newsletter.  But unfortunately, \"This spam-fighting trick doesn\\'t work.  At all.\" They warn that it\\'s not just a \"piec…', 'url': 'https://yro.slashdot.org/story/23/02/19/2243246/the-washington-post-says-theres-no-real-reason-to-use-a-vpn', 'urlToImage': 'https://a.fsdn.com/sd/topics/privacy_64.png', 'publishedAt': '2023-02-20T02:49:29Z', 'content': 'I can tell you that there are still many reasons to use a VPN in 2023...\\r\\nYes, there are plenty of miths and hype about VPNs, and yes, I can understand why an USoAn living in DC (of all places) may f… [+1062 chars]'}, {'source': {'id': 'financial-times', 'name': 'Financial Times'}, 'author': 'Thomas Hale, Ryan McMorrow, Kai Waluszewski', 'title': 'Missing Chinese dealmaker Bao Fan casts chill across tech sector - Financial Times', 'description': 'Fate of China Renaissance banker seen as test of Beijing’s stance after regulatory crackdown', 'url': 'https://www.ft.com/content/c1512ef9-0011-410f-bc27-8adb26ae9dbb', 'urlToImage': 'https://www.ft.com/__origami/service/image/v2/images/raw/https%3A%2F%2Fd1e00ek4ebabms.cloudfront.net%2Fproduction%2Fb8f7ccf6-c26b-4e21-bdf7-ec78e29c0920.jpg?source=next-opengraph&fit=scale-down&width=900', 'publishedAt': '2023-02-20T02:27:41Z', 'content': 'In May 2021, a group of Chinese banks agreed to lend $300mn to investment bank China Renaissance with a condition: if Bao Fan, the companys well-known founder, ceased to be its largest shareholder or… [+5079 chars]'}, {'source': {'id': None, 'name': 'Theregister.com'}, 'author': 'Brandon Vigliarolo', 'title': \"GoDaddy joins the dots and realizes it's been under attack for three years - The Register\", 'description': 'Also: Russia may legalize hacking; Oakland declares ransomware emergency; the CVEs you should know about this week', 'url': 'https://www.theregister.com/2023/02/20/in_brief_security/', 'urlToImage': 'https://regmedia.co.uk/2016/08/10/shutterstock_surprise.jpg', 'publishedAt': '2023-02-20T02:27:00Z', 'content': 'In brief Web hosting and domain name concern GoDaddy has disclosed a fresh attack on its infrastructure, and concluded that it is one of a series of linked incidents dating back to 2020.\\r\\nThe busines… [+8779 chars]'}, {'source': {'id': None, 'name': 'CNBC'}, 'author': 'Lim Hui Jie', 'title': 'Asia markets mostly fall ahead ahead of Fed minutes; China leaves loan prime rates unchanged - CNBC', 'description': 'Investors looked ahead to crucial economic data releases later in the week, including FOMC minutes and RBA minutes.', 'url': 'https://www.cnbc.com/2023/02/20/asia-markets.html', 'urlToImage': 'https://image.cnbcfm.com/api/v1/image/107173548-1672802019392-gettyimages-1223718922-202006301112057ta.jpeg?v=1676850434&w=1920&h=1080', 'publishedAt': '2023-02-20T02:13:00Z', 'content': 'Here are the major events investors in the Asia-Pacific will be watching this week.\\r\\nThe U.S. Federal Open Market Committee will release minutes for its latest meeting concluding Feb. 1 later in the … [+1200 chars]'}, {'source': {'id': None, 'name': 'CNBC'}, 'author': 'Arjun Kharpal', 'title': 'The SEC has a stablecoin firm in its sights — and it could shake up the whole $137 billion market - CNBC', 'description': 'The U.S. Securities and Exchange Commission (SEC) could be gearing up to take action against Paxos, over the issue of whether Binance USD (BUSD) is a security.', 'url': 'https://www.cnbc.com/2023/02/20/how-the-sec-and-paxos-busd-fight-could-impact-the-stablecoin-market.html', 'urlToImage': 'https://image.cnbcfm.com/api/v1/image/107194087-1676371176205-gettyimages-1247107012-porzycki-busdbina230213_npvhJ.jpeg?v=1676857609&w=1920&h=1080', 'publishedAt': '2023-02-20T01:46:00Z', 'content': 'Paxos has been ordered by New York regulators to stop issuing the Binance USD (BUSD) stablecoin.\\r\\nThe U.S. Securities and Exchange Commission could be gearing up to take action against Paxos, a compa… [+5497 chars]'}, {'source': {'id': None, 'name': 'Bitcoin.com'}, 'author': 'Kevin Helms', 'title': 'Binance US Refutes Reports Comparing It to Fraudulent Crypto Exchanges – Exchanges Bitcoin News - Bitcoin News', 'description': 'Binance US has refuted reports that draw parallels between it and \"fraudulent exchanges that have gone bankrupt.\"', 'url': 'https://news.bitcoin.com/binance-us-refutes-reports-comparing-it-to-fraudulent-crypto-exchanges/', 'urlToImage': 'https://static.news.bitcoin.com/wp-content/uploads/2023/02/binance-us.jpg', 'publishedAt': '2023-02-20T01:32:58Z', 'content': 'Binance US has refuted reports that draw parallels between it and “fraudulent exchanges that have gone bankrupt.” The U.S.-based crypto trading platform stressed that “only Binance.US employees” have… [+3632 chars]'}, {'source': {'id': None, 'name': 'Fox Business'}, 'author': 'Eric Revell', 'title': 'Lockheed Martin awarded Navy hypersonic missile contract worth over $1 billion - Fox Business', 'description': 'The Navy awarded Lockheed Martin a contract initially worth $1.1 billion that may rise to over $2 billion to integrate hypersonic missiles onto Zumwalt destroyers.', 'url': 'https://www.foxbusiness.com/politics/lockheed-martin-awarded-navy-hypersonic-missile-contract-worth-over-1-billion', 'urlToImage': 'https://a57.foxnews.com/static.foxbusiness.com/foxbusiness.com/content/uploads/2023/02/0/0/6384c03a-2.jpg?ve=1&tl=1', 'publishedAt': '2023-02-20T01:26:57Z', 'content': \"Lockheed Martin announced Friday that it will receive a contract that's potentially worth more than $2 billion to integrate a hypersonic missile system onto certain U.S. Navy destroyers.\\r\\nThe deal, w… [+3615 chars]\"}, {'source': {'id': None, 'name': 'DW (English)'}, 'author': 'Deutsche Welle', 'title': \"Facebook, Instagram plan blue check 'verified' service - DW (English)\", 'description': '\"Meta Verified\" follows Twitter and other social media companies attempting to instill confidence in their services by asking users to pay to prove their identities.', 'url': 'https://www.dw.com/en/facebook-instagram-plan-blue-check-verified-service/a-64757725', 'urlToImage': 'https://static.dw.com/image/64757745_6.jpg', 'publishedAt': '2023-02-20T00:52:53Z', 'content': 'Facebook and Instagram\\'s parent company, Meta, announced on Sunday it would test a paid subscription service.\\r\\n\"Meta Verified,\" available in Australia and New Zealand this week, would authenticate us… [+1585 chars]'}, {'source': {'id': None, 'name': 'CNBC'}, 'author': 'Ray Parisi', 'title': 'The most expensive home in the Caribbean just listed for $200 million – take a look inside - CNBC', 'description': \"The Terraces spans 17 acres and nine structures.\\xa0It's located on the small private Caribbean island of Mustique.\", 'url': 'https://www.cnbc.com/2023/02/19/most-expensive-home-in-the-caribbean-mustique.html', 'urlToImage': 'https://image.cnbcfm.com/api/v1/image/107196898-1676680539415-Terraces_Mustique_Knight_Frank_8.jpg?v=1676851261&w=1920&h=1080', 'publishedAt': '2023-02-20T00:01:00Z', 'content': 'A palatial estate in the Caribbean was listed for a whopping $200 million Sunday evening, making it the most expensive home to ever hit the market in the region and one of the priciest homes for sale… [+6157 chars]'}, {'source': {'id': 'fortune', 'name': 'Fortune'}, 'author': 'Steve Mollman', 'title': 'Kroger workers who quit are getting texts and emails from the company asking them to come back - Fortune', 'description': \"A tight labor market has bosses doing something they don't generally do: Asking workers who left to please return.\", 'url': 'https://fortune.com/2023/02/19/kroger-workers-who-quit-getting-texts-emails-from-company-to-return-amid-tight-labor-market-low-unemployment/', 'urlToImage': 'https://content.fortune.com/wp-content/uploads/2023/02/GettyImages-1240404072-e1676849628848.jpg?resize=1200,600', 'publishedAt': '2023-02-19T23:52:00Z', 'content': 'Former Kroger employees who left the company have been getting some surprising texts and emails. The supermarket operatorthe nations largest\\xa0by saleswants them back, and it isnt being shy about reach… [+2504 chars]'}, {'source': {'id': None, 'name': 'Daily Mail'}, 'author': 'Hope Sloop', 'title': \"Disney petition: Employees rebel against Bob Iger's return to the office mandate - Daily Mail\", 'description': 'Disney employees are pushing back against the mandate recently announced by CEO Bob Iger requiring them to return to the office four days a week.', 'url': 'https://www.dailymail.co.uk/news/article-11770007/Disney-petition-Employees-rebel-against-Bob-Igers-return-office-mandate.html', 'urlToImage': 'https://i.dailymail.co.uk/1s/2023/02/19/23/67859505-0-image-a-12_1676850273630.jpg', 'publishedAt': '2023-02-19T23:51:20Z', 'content': 'Disney employees are pushing back against the mandate recently announced by CEO Bob Iger requiring them to return to the office four days a week.\\xa0\\r\\nMore than 2,300 workers recently signed a petition … [+5682 chars]'}, {'source': {'id': None, 'name': 'CNBC'}, 'author': 'Yeo Boon Ping', 'title': 'CNBC Daily Open: Growth stocks look hot but investors should be wary - CNBC', 'description': 'The Nasdaq had its sixth positive week in seven. Yet further interest rate hikes by the  Federal Reserve seem imminent. Markets may be too optimistic.', 'url': 'https://www.cnbc.com/2023/02/20/stock-markets-growth-stocks-look-hot-but-investors-should-be-wary.html', 'urlToImage': 'https://image.cnbcfm.com/api/v1/image/107197030-1676850083877-gettyimages-1459193203-nasdaqstockreadytopastq4expectations005.jpeg?v=1676850417&w=1920&h=1080', 'publishedAt': '2023-02-19T23:46:57Z', 'content': \"This report is from today's CNBC Daily Open, our new, international markets newsletter. CNBC Daily Open brings investors up to speed on everything they need to know, no matter where they are. Like wh… [+1797 chars]\"}, {'source': {'id': 'bloomberg', 'name': 'Bloomberg'}, 'author': None, 'title': 'Adani Maps Comeback Strategy After $132 Billion Hindenburg Rout - Bloomberg', 'description': None, 'url': 'https://www.bloomberg.com/tosv2.html?vid=&uuid=6c4a6e7d-b0ca-11ed-ade2-48416d577966&url=L25ld3MvYXJ0aWNsZXMvMjAyMy0wMi0xOS9hZGFuaS1tYXBzLWNvbWViYWNrLXN0cmF0ZWd5LWFmdGVyLTEzMi1iaWxsaW9uLWhpbmRlbmJ1cmctcm91dA==', 'urlToImage': None, 'publishedAt': '2023-02-19T23:30:00Z', 'content': \"To continue, please click the box below to let us know you're not a robot.\"}]}\n"
     ]
    }
   ],
   "source": [
    "print(response1.json())"
   ]
  },
  {
   "cell_type": "markdown",
   "id": "8ead9aaf",
   "metadata": {},
   "source": [
    "To work in a better way with the information, its better to transfor it to a json type of data in Python "
   ]
  },
  {
   "cell_type": "code",
   "execution_count": 27,
   "id": "2266c852",
   "metadata": {},
   "outputs": [
    {
     "name": "stdout",
     "output_type": "stream",
     "text": [
      "{'status': 'ok', 'totalResults': 69, 'articles': [{'source': {'id': None, 'name': 'BBC News'}, 'author': 'https://www.facebook.com/bbcnews', 'title': 'Price of a cuppa: Sexual abuse on Kenyan tea farms revealed - BBC', 'description': \"Secret filming finds sexual exploitation at Kenyan farms supplying some of the UK's biggest brands.\", 'url': 'https://www.bbc.com/news/uk-64662056', 'urlToImage': 'https://ichef.bbci.co.uk/news/1024/branded_news/10D85/production/_128679986_red-label-pg-tips.jpg', 'publishedAt': '2023-02-20T05:53:07Z', 'content': \"Media caption, Sexual harassment caught on hidden camera in Kenya\\r\\nSexual exploitation has been uncovered on tea farms that supply some of the UK's most popular brands, including PG Tips, Lipton and … [+5389 chars]\"}, {'source': {'id': 'financial-times', 'name': 'Financial Times'}, 'author': 'Laurence Fletcher', 'title': 'Hedge fund Galois shuts down after half its assets trapped on FTX - Financial Times', 'description': 'Co-founder Kevin Zhou says fund is no longer viable and sells claim on collapsed crypto exchange for 16 cents on dollar', 'url': 'https://www.ft.com/content/a06b77bc-52ac-4901-98d7-8c567449262e', 'urlToImage': 'https://www.ft.com/__origami/service/image/v2/images/raw/https%3A%2F%2Fd1e00ek4ebabms.cloudfront.net%2Fproduction%2F1cbf9d7c-0295-49d9-bfc6-daa876738bd6.jpg?source=next-opengraph&fit=scale-down&width=900', 'publishedAt': '2023-02-20T05:01:13Z', 'content': 'A hedge fund that was one of the highest profile victims of the FTX scandal when half its assets were trapped on the collapsed cryptocurrency exchange has decided to close and return its remaining mo… [+2455 chars]'}, {'source': {'id': None, 'name': 'CNBC'}, 'author': 'Jihye Lee', 'title': 'Reopening to recovery: Goldman Sachs sees China stocks surging as much as 24% by end of 2023 - CNBC', 'description': 'Goldman Sachs strategists see an economic shift from \"reopening to recovery\" driving Chinese stocks 24% higher by the end of this year.', 'url': 'https://www.cnbc.com/2023/02/20/goldman-sachs-sees-china-stocks-surging-by-end-2023.html', 'urlToImage': 'https://image.cnbcfm.com/api/v1/image/107197085-1676866120404-gettyimages-1464674063-vcg111421719183.jpeg?v=1676869211&w=1920&h=1080', 'publishedAt': '2023-02-20T05:00:11Z', 'content': 'Goldman Sachs strategists see an economic shift from \"reopening to recovery\" driving Chinese stocks as much as 24% higher by the end of this year.\\r\\nThe firm sees a potential 24% upside to the MSCI Ch… [+2259 chars]'}, {'source': {'id': None, 'name': 'Cointelegraph'}, 'author': 'William Suberg', 'title': 'Bitcoin continues to ‘mirror’ 2017 as weekend sees third attack on $25K - Cointelegraph', 'description': 'Bitcoin order book analysis flags whales shifting BTC price higher as $25,000 reappears.', 'url': 'https://cointelegraph.com/news/bitcoin-continues-to-mirror-2017-as-weekend-sees-third-attack-on-25k', 'urlToImage': 'https://s3.cointelegraph.com/uploads/2023-02/5aa38aba-7f94-4b5a-b148-51b144ecf63d.jpg', 'publishedAt': '2023-02-20T04:01:56Z', 'content': 'Bitcoin (BTC) tapped $25,000 for a third time on Feb. 19 as an all-important weekly close approached.\\r\\nBTC/USD 1-hour candle chart (Bitstamp). Source: TradingView\\r\\nAnalysis warns over whale moves\\r\\nDa… [+2606 chars]'}, {'source': {'id': None, 'name': 'CNBC'}, 'author': 'Evelyn Cheng', 'title': 'China formalizes rules for overseas IPOs - CNBC', 'description': 'The new rules also call for IPO underwriters, typically international investment banks, to annually report to the CSRC their involvement with Chinese listings overseas.', 'url': 'https://www.cnbc.com/2023/02/20/china-formalizes-rules-for-overseas-ipos.html', 'urlToImage': 'https://image.cnbcfm.com/api/v1/image/107197077-1676863078604-gettyimages-1286064699-vcg111306805312.jpeg?v=1676863173&w=1920&h=1080', 'publishedAt': '2023-02-20T03:19:00Z', 'content': 'BEIJING China-based companies now have more clarity on whether they can list overseas in the U.S.\\r\\nThe China Securities Regulatory Commission announced late Friday new rules that require domestic com… [+1539 chars]'}, {'source': {'id': None, 'name': 'CoinDesk'}, 'author': 'Sam Reynolds', 'title': 'First Mover Asia: Bitcoin Opens the Week Testing $25K - CoinDesk', 'description': 'ALSO: Hong Kong unveils its new crypto licensing framework for Virtual Asset Service Providers in June, but the regulation will not allow retail investors to trade digital, contrary to what a recent tweet suggests. The regulation focuses on accredited, profes…', 'url': 'https://www.coindesk.com/markets/2023/02/20/first-mover-asia-bitcoin-opens-the-week-testing-25k/', 'urlToImage': 'https://www.coindesk.com/resizer/O4aaqWPIoy-JLVBJ0lO9deoRMbI=/1200x628/center/middle/cloudfront-us-east-1.images.arcpublishing.com/coindesk/2RWS7XWQFVECPCHT4OAPXVISOA.jpg', 'publishedAt': '2023-02-20T02:54:00Z', 'content': None}, {'source': {'id': None, 'name': 'NDTV News'}, 'author': None, 'title': 'ChatGPT Calls Elon Musk \"Controversial\", Billionaire Reacts - NDTV', 'description': \"ChatGPT also said that these public figures should be treated in a 'special manner.'\", 'url': 'https://www.ndtv.com/feature/chatgpt-calls-elon-musk-controversial-billionaire-reacts-3796933', 'urlToImage': 'https://c.ndtvimg.com/2022-12/i5bcj6mo_elon-musk-650_625x300_13_December_22.jpg', 'publishedAt': '2023-02-20T02:49:46Z', 'content': 'The list shared by Issac Latterell\\r\\nTwitter boss Elon Musk recently reacted to a social media post\\xa0on the microblogging site. The Tesla CEO responded to a post shared by Issac Latterell that indicate… [+1674 chars]'}, {'source': {'id': None, 'name': 'Slashdot.org'}, 'author': None, 'title': \"The Washington Post Says There's 'No Real Reason' to Use a VPN - Slashdot\", 'description': 'Some people try to hide parts of their email address from online scrapers by spelling out \"at\" and \"dot,\" notes a Washington Post technology newsletter.  But unfortunately, \"This spam-fighting trick doesn\\'t work.  At all.\" They warn that it\\'s not just a \"piec…', 'url': 'https://yro.slashdot.org/story/23/02/19/2243246/the-washington-post-says-theres-no-real-reason-to-use-a-vpn', 'urlToImage': 'https://a.fsdn.com/sd/topics/privacy_64.png', 'publishedAt': '2023-02-20T02:49:29Z', 'content': 'I can tell you that there are still many reasons to use a VPN in 2023...\\r\\nYes, there are plenty of miths and hype about VPNs, and yes, I can understand why an USoAn living in DC (of all places) may f… [+1062 chars]'}, {'source': {'id': 'financial-times', 'name': 'Financial Times'}, 'author': 'Thomas Hale, Ryan McMorrow, Kai Waluszewski', 'title': 'Missing Chinese dealmaker Bao Fan casts chill across tech sector - Financial Times', 'description': 'Fate of China Renaissance banker seen as test of Beijing’s stance after regulatory crackdown', 'url': 'https://www.ft.com/content/c1512ef9-0011-410f-bc27-8adb26ae9dbb', 'urlToImage': 'https://www.ft.com/__origami/service/image/v2/images/raw/https%3A%2F%2Fd1e00ek4ebabms.cloudfront.net%2Fproduction%2Fb8f7ccf6-c26b-4e21-bdf7-ec78e29c0920.jpg?source=next-opengraph&fit=scale-down&width=900', 'publishedAt': '2023-02-20T02:27:41Z', 'content': 'In May 2021, a group of Chinese banks agreed to lend $300mn to investment bank China Renaissance with a condition: if Bao Fan, the companys well-known founder, ceased to be its largest shareholder or… [+5079 chars]'}, {'source': {'id': None, 'name': 'Theregister.com'}, 'author': 'Brandon Vigliarolo', 'title': \"GoDaddy joins the dots and realizes it's been under attack for three years - The Register\", 'description': 'Also: Russia may legalize hacking; Oakland declares ransomware emergency; the CVEs you should know about this week', 'url': 'https://www.theregister.com/2023/02/20/in_brief_security/', 'urlToImage': 'https://regmedia.co.uk/2016/08/10/shutterstock_surprise.jpg', 'publishedAt': '2023-02-20T02:27:00Z', 'content': 'In brief Web hosting and domain name concern GoDaddy has disclosed a fresh attack on its infrastructure, and concluded that it is one of a series of linked incidents dating back to 2020.\\r\\nThe busines… [+8779 chars]'}, {'source': {'id': None, 'name': 'CNBC'}, 'author': 'Lim Hui Jie', 'title': 'Asia markets mostly fall ahead ahead of Fed minutes; China leaves loan prime rates unchanged - CNBC', 'description': 'Investors looked ahead to crucial economic data releases later in the week, including FOMC minutes and RBA minutes.', 'url': 'https://www.cnbc.com/2023/02/20/asia-markets.html', 'urlToImage': 'https://image.cnbcfm.com/api/v1/image/107173548-1672802019392-gettyimages-1223718922-202006301112057ta.jpeg?v=1676850434&w=1920&h=1080', 'publishedAt': '2023-02-20T02:13:00Z', 'content': 'Here are the major events investors in the Asia-Pacific will be watching this week.\\r\\nThe U.S. Federal Open Market Committee will release minutes for its latest meeting concluding Feb. 1 later in the … [+1200 chars]'}, {'source': {'id': None, 'name': 'CNBC'}, 'author': 'Arjun Kharpal', 'title': 'The SEC has a stablecoin firm in its sights — and it could shake up the whole $137 billion market - CNBC', 'description': 'The U.S. Securities and Exchange Commission (SEC) could be gearing up to take action against Paxos, over the issue of whether Binance USD (BUSD) is a security.', 'url': 'https://www.cnbc.com/2023/02/20/how-the-sec-and-paxos-busd-fight-could-impact-the-stablecoin-market.html', 'urlToImage': 'https://image.cnbcfm.com/api/v1/image/107194087-1676371176205-gettyimages-1247107012-porzycki-busdbina230213_npvhJ.jpeg?v=1676857609&w=1920&h=1080', 'publishedAt': '2023-02-20T01:46:00Z', 'content': 'Paxos has been ordered by New York regulators to stop issuing the Binance USD (BUSD) stablecoin.\\r\\nThe U.S. Securities and Exchange Commission could be gearing up to take action against Paxos, a compa… [+5497 chars]'}, {'source': {'id': None, 'name': 'Bitcoin.com'}, 'author': 'Kevin Helms', 'title': 'Binance US Refutes Reports Comparing It to Fraudulent Crypto Exchanges – Exchanges Bitcoin News - Bitcoin News', 'description': 'Binance US has refuted reports that draw parallels between it and \"fraudulent exchanges that have gone bankrupt.\"', 'url': 'https://news.bitcoin.com/binance-us-refutes-reports-comparing-it-to-fraudulent-crypto-exchanges/', 'urlToImage': 'https://static.news.bitcoin.com/wp-content/uploads/2023/02/binance-us.jpg', 'publishedAt': '2023-02-20T01:32:58Z', 'content': 'Binance US has refuted reports that draw parallels between it and “fraudulent exchanges that have gone bankrupt.” The U.S.-based crypto trading platform stressed that “only Binance.US employees” have… [+3632 chars]'}, {'source': {'id': None, 'name': 'Fox Business'}, 'author': 'Eric Revell', 'title': 'Lockheed Martin awarded Navy hypersonic missile contract worth over $1 billion - Fox Business', 'description': 'The Navy awarded Lockheed Martin a contract initially worth $1.1 billion that may rise to over $2 billion to integrate hypersonic missiles onto Zumwalt destroyers.', 'url': 'https://www.foxbusiness.com/politics/lockheed-martin-awarded-navy-hypersonic-missile-contract-worth-over-1-billion', 'urlToImage': 'https://a57.foxnews.com/static.foxbusiness.com/foxbusiness.com/content/uploads/2023/02/0/0/6384c03a-2.jpg?ve=1&tl=1', 'publishedAt': '2023-02-20T01:26:57Z', 'content': \"Lockheed Martin announced Friday that it will receive a contract that's potentially worth more than $2 billion to integrate a hypersonic missile system onto certain U.S. Navy destroyers.\\r\\nThe deal, w… [+3615 chars]\"}, {'source': {'id': None, 'name': 'DW (English)'}, 'author': 'Deutsche Welle', 'title': \"Facebook, Instagram plan blue check 'verified' service - DW (English)\", 'description': '\"Meta Verified\" follows Twitter and other social media companies attempting to instill confidence in their services by asking users to pay to prove their identities.', 'url': 'https://www.dw.com/en/facebook-instagram-plan-blue-check-verified-service/a-64757725', 'urlToImage': 'https://static.dw.com/image/64757745_6.jpg', 'publishedAt': '2023-02-20T00:52:53Z', 'content': 'Facebook and Instagram\\'s parent company, Meta, announced on Sunday it would test a paid subscription service.\\r\\n\"Meta Verified,\" available in Australia and New Zealand this week, would authenticate us… [+1585 chars]'}, {'source': {'id': None, 'name': 'CNBC'}, 'author': 'Ray Parisi', 'title': 'The most expensive home in the Caribbean just listed for $200 million – take a look inside - CNBC', 'description': \"The Terraces spans 17 acres and nine structures.\\xa0It's located on the small private Caribbean island of Mustique.\", 'url': 'https://www.cnbc.com/2023/02/19/most-expensive-home-in-the-caribbean-mustique.html', 'urlToImage': 'https://image.cnbcfm.com/api/v1/image/107196898-1676680539415-Terraces_Mustique_Knight_Frank_8.jpg?v=1676851261&w=1920&h=1080', 'publishedAt': '2023-02-20T00:01:00Z', 'content': 'A palatial estate in the Caribbean was listed for a whopping $200 million Sunday evening, making it the most expensive home to ever hit the market in the region and one of the priciest homes for sale… [+6157 chars]'}, {'source': {'id': 'fortune', 'name': 'Fortune'}, 'author': 'Steve Mollman', 'title': 'Kroger workers who quit are getting texts and emails from the company asking them to come back - Fortune', 'description': \"A tight labor market has bosses doing something they don't generally do: Asking workers who left to please return.\", 'url': 'https://fortune.com/2023/02/19/kroger-workers-who-quit-getting-texts-emails-from-company-to-return-amid-tight-labor-market-low-unemployment/', 'urlToImage': 'https://content.fortune.com/wp-content/uploads/2023/02/GettyImages-1240404072-e1676849628848.jpg?resize=1200,600', 'publishedAt': '2023-02-19T23:52:00Z', 'content': 'Former Kroger employees who left the company have been getting some surprising texts and emails. The supermarket operatorthe nations largest\\xa0by saleswants them back, and it isnt being shy about reach… [+2504 chars]'}, {'source': {'id': None, 'name': 'Daily Mail'}, 'author': 'Hope Sloop', 'title': \"Disney petition: Employees rebel against Bob Iger's return to the office mandate - Daily Mail\", 'description': 'Disney employees are pushing back against the mandate recently announced by CEO Bob Iger requiring them to return to the office four days a week.', 'url': 'https://www.dailymail.co.uk/news/article-11770007/Disney-petition-Employees-rebel-against-Bob-Igers-return-office-mandate.html', 'urlToImage': 'https://i.dailymail.co.uk/1s/2023/02/19/23/67859505-0-image-a-12_1676850273630.jpg', 'publishedAt': '2023-02-19T23:51:20Z', 'content': 'Disney employees are pushing back against the mandate recently announced by CEO Bob Iger requiring them to return to the office four days a week.\\xa0\\r\\nMore than 2,300 workers recently signed a petition … [+5682 chars]'}, {'source': {'id': None, 'name': 'CNBC'}, 'author': 'Yeo Boon Ping', 'title': 'CNBC Daily Open: Growth stocks look hot but investors should be wary - CNBC', 'description': 'The Nasdaq had its sixth positive week in seven. Yet further interest rate hikes by the  Federal Reserve seem imminent. Markets may be too optimistic.', 'url': 'https://www.cnbc.com/2023/02/20/stock-markets-growth-stocks-look-hot-but-investors-should-be-wary.html', 'urlToImage': 'https://image.cnbcfm.com/api/v1/image/107197030-1676850083877-gettyimages-1459193203-nasdaqstockreadytopastq4expectations005.jpeg?v=1676850417&w=1920&h=1080', 'publishedAt': '2023-02-19T23:46:57Z', 'content': \"This report is from today's CNBC Daily Open, our new, international markets newsletter. CNBC Daily Open brings investors up to speed on everything they need to know, no matter where they are. Like wh… [+1797 chars]\"}, {'source': {'id': 'bloomberg', 'name': 'Bloomberg'}, 'author': None, 'title': 'Adani Maps Comeback Strategy After $132 Billion Hindenburg Rout - Bloomberg', 'description': None, 'url': 'https://www.bloomberg.com/tosv2.html?vid=&uuid=6c4a6e7d-b0ca-11ed-ade2-48416d577966&url=L25ld3MvYXJ0aWNsZXMvMjAyMy0wMi0xOS9hZGFuaS1tYXBzLWNvbWViYWNrLXN0cmF0ZWd5LWFmdGVyLTEzMi1iaWxsaW9uLWhpbmRlbmJ1cmctcm91dA==', 'urlToImage': None, 'publishedAt': '2023-02-19T23:30:00Z', 'content': \"To continue, please click the box below to let us know you're not a robot.\"}]}\n"
     ]
    },
    {
     "data": {
      "text/plain": [
       "dict"
      ]
     },
     "execution_count": 27,
     "metadata": {},
     "output_type": "execute_result"
    }
   ],
   "source": [
    "response1_json = response1.json()\n",
    "print(response1_json)\n",
    "type(response1_json)"
   ]
  },
  {
   "cell_type": "markdown",
   "id": "a9067c9c",
   "metadata": {},
   "source": [
    "So our response is a list of dictionary, where every elemeto of the list=diccionary is a new "
   ]
  },
  {
   "cell_type": "markdown",
   "id": "a3caedc5",
   "metadata": {},
   "source": [
    "Se busca obtener noticias recientes de estados unidos relacionadas con negocios \n",
    "(Al ser una petición a API se usa tru, except por si la petición falla, el programa \"no truene\")\n",
    "\n",
    "['articles']- Access to the value articles from the \"big\" dictionary \n",
    "[i]: Access to the i-th value of the list called articles\n",
    "['title']: Access to the value called 'title' in the diccionary with name:New_name "
   ]
  },
  {
   "cell_type": "code",
   "execution_count": 24,
   "id": "9f442f29",
   "metadata": {},
   "outputs": [
    {
     "name": "stdout",
     "output_type": "stream",
     "text": [
      "Se encontraron: 69\n",
      "Price of a cuppa: Sexual abuse on Kenyan tea farms revealed - BBC\n",
      "https://www.facebook.com/bbcnews\n",
      "Secret filming finds sexual exploitation at Kenyan farms supplying some of the UK's biggest brands.\n",
      "Media caption, Sexual harassment caught on hidden camera in Kenya\r\n",
      "Sexual exploitation has been uncovered on tea farms that supply some of the UK's most popular brands, including PG Tips, Lipton and … [+5389 chars]\n",
      "https://www.bbc.com/news/uk-64662056\n",
      "************\n",
      "Hedge fund Galois shuts down after half its assets trapped on FTX - Financial Times\n",
      "Laurence Fletcher\n",
      "Co-founder Kevin Zhou says fund is no longer viable and sells claim on collapsed crypto exchange for 16 cents on dollar\n",
      "A hedge fund that was one of the highest profile victims of the FTX scandal when half its assets were trapped on the collapsed cryptocurrency exchange has decided to close and return its remaining mo… [+2455 chars]\n",
      "https://www.ft.com/content/a06b77bc-52ac-4901-98d7-8c567449262e\n",
      "************\n",
      "Reopening to recovery: Goldman Sachs sees China stocks surging as much as 24% by end of 2023 - CNBC\n",
      "Jihye Lee\n",
      "Goldman Sachs strategists see an economic shift from \"reopening to recovery\" driving Chinese stocks 24% higher by the end of this year.\n",
      "Goldman Sachs strategists see an economic shift from \"reopening to recovery\" driving Chinese stocks as much as 24% higher by the end of this year.\r\n",
      "The firm sees a potential 24% upside to the MSCI Ch… [+2259 chars]\n",
      "https://www.cnbc.com/2023/02/20/goldman-sachs-sees-china-stocks-surging-by-end-2023.html\n",
      "************\n",
      "Bitcoin continues to ‘mirror’ 2017 as weekend sees third attack on $25K - Cointelegraph\n",
      "William Suberg\n",
      "Bitcoin order book analysis flags whales shifting BTC price higher as $25,000 reappears.\n",
      "Bitcoin (BTC) tapped $25,000 for a third time on Feb. 19 as an all-important weekly close approached.\r\n",
      "BTC/USD 1-hour candle chart (Bitstamp). Source: TradingView\r\n",
      "Analysis warns over whale moves\r\n",
      "Da… [+2606 chars]\n",
      "https://cointelegraph.com/news/bitcoin-continues-to-mirror-2017-as-weekend-sees-third-attack-on-25k\n",
      "************\n",
      "China formalizes rules for overseas IPOs - CNBC\n",
      "Evelyn Cheng\n",
      "The new rules also call for IPO underwriters, typically international investment banks, to annually report to the CSRC their involvement with Chinese listings overseas.\n",
      "BEIJING China-based companies now have more clarity on whether they can list overseas in the U.S.\r\n",
      "The China Securities Regulatory Commission announced late Friday new rules that require domestic com… [+1539 chars]\n",
      "https://www.cnbc.com/2023/02/20/china-formalizes-rules-for-overseas-ipos.html\n",
      "************\n",
      "First Mover Asia: Bitcoin Opens the Week Testing $25K - CoinDesk\n",
      "Sam Reynolds\n",
      "ALSO: Hong Kong unveils its new crypto licensing framework for Virtual Asset Service Providers in June, but the regulation will not allow retail investors to trade digital, contrary to what a recent tweet suggests. The regulation focuses on accredited, profes…\n",
      "None\n",
      "https://www.coindesk.com/markets/2023/02/20/first-mover-asia-bitcoin-opens-the-week-testing-25k/\n",
      "************\n",
      "ChatGPT Calls Elon Musk \"Controversial\", Billionaire Reacts - NDTV\n",
      "None\n",
      "ChatGPT also said that these public figures should be treated in a 'special manner.'\n",
      "The list shared by Issac Latterell\r\n",
      "Twitter boss Elon Musk recently reacted to a social media post on the microblogging site. The Tesla CEO responded to a post shared by Issac Latterell that indicate… [+1674 chars]\n",
      "https://www.ndtv.com/feature/chatgpt-calls-elon-musk-controversial-billionaire-reacts-3796933\n",
      "************\n",
      "The Washington Post Says There's 'No Real Reason' to Use a VPN - Slashdot\n",
      "None\n",
      "Some people try to hide parts of their email address from online scrapers by spelling out \"at\" and \"dot,\" notes a Washington Post technology newsletter.  But unfortunately, \"This spam-fighting trick doesn't work.  At all.\" They warn that it's not just a \"piec…\n",
      "I can tell you that there are still many reasons to use a VPN in 2023...\r\n",
      "Yes, there are plenty of miths and hype about VPNs, and yes, I can understand why an USoAn living in DC (of all places) may f… [+1062 chars]\n",
      "https://yro.slashdot.org/story/23/02/19/2243246/the-washington-post-says-theres-no-real-reason-to-use-a-vpn\n",
      "************\n",
      "Missing Chinese dealmaker Bao Fan casts chill across tech sector - Financial Times\n",
      "Thomas Hale, Ryan McMorrow, Kai Waluszewski\n",
      "Fate of China Renaissance banker seen as test of Beijing’s stance after regulatory crackdown\n",
      "In May 2021, a group of Chinese banks agreed to lend $300mn to investment bank China Renaissance with a condition: if Bao Fan, the companys well-known founder, ceased to be its largest shareholder or… [+5079 chars]\n",
      "https://www.ft.com/content/c1512ef9-0011-410f-bc27-8adb26ae9dbb\n",
      "************\n",
      "GoDaddy joins the dots and realizes it's been under attack for three years - The Register\n",
      "Brandon Vigliarolo\n",
      "Also: Russia may legalize hacking; Oakland declares ransomware emergency; the CVEs you should know about this week\n",
      "In brief Web hosting and domain name concern GoDaddy has disclosed a fresh attack on its infrastructure, and concluded that it is one of a series of linked incidents dating back to 2020.\r\n",
      "The busines… [+8779 chars]\n",
      "https://www.theregister.com/2023/02/20/in_brief_security/\n",
      "************\n",
      "Asia markets mostly fall ahead ahead of Fed minutes; China leaves loan prime rates unchanged - CNBC\n",
      "Lim Hui Jie\n",
      "Investors looked ahead to crucial economic data releases later in the week, including FOMC minutes and RBA minutes.\n",
      "Here are the major events investors in the Asia-Pacific will be watching this week.\r\n",
      "The U.S. Federal Open Market Committee will release minutes for its latest meeting concluding Feb. 1 later in the … [+1200 chars]\n",
      "https://www.cnbc.com/2023/02/20/asia-markets.html\n",
      "************\n",
      "The SEC has a stablecoin firm in its sights — and it could shake up the whole $137 billion market - CNBC\n",
      "Arjun Kharpal\n",
      "The U.S. Securities and Exchange Commission (SEC) could be gearing up to take action against Paxos, over the issue of whether Binance USD (BUSD) is a security.\n",
      "Paxos has been ordered by New York regulators to stop issuing the Binance USD (BUSD) stablecoin.\r\n",
      "The U.S. Securities and Exchange Commission could be gearing up to take action against Paxos, a compa… [+5497 chars]\n",
      "https://www.cnbc.com/2023/02/20/how-the-sec-and-paxos-busd-fight-could-impact-the-stablecoin-market.html\n",
      "************\n",
      "Binance US Refutes Reports Comparing It to Fraudulent Crypto Exchanges – Exchanges Bitcoin News - Bitcoin News\n",
      "Kevin Helms\n",
      "Binance US has refuted reports that draw parallels between it and \"fraudulent exchanges that have gone bankrupt.\"\n",
      "Binance US has refuted reports that draw parallels between it and “fraudulent exchanges that have gone bankrupt.” The U.S.-based crypto trading platform stressed that “only Binance.US employees” have… [+3632 chars]\n",
      "https://news.bitcoin.com/binance-us-refutes-reports-comparing-it-to-fraudulent-crypto-exchanges/\n",
      "************\n",
      "Lockheed Martin awarded Navy hypersonic missile contract worth over $1 billion - Fox Business\n",
      "Eric Revell\n",
      "The Navy awarded Lockheed Martin a contract initially worth $1.1 billion that may rise to over $2 billion to integrate hypersonic missiles onto Zumwalt destroyers.\n",
      "Lockheed Martin announced Friday that it will receive a contract that's potentially worth more than $2 billion to integrate a hypersonic missile system onto certain U.S. Navy destroyers.\r\n",
      "The deal, w… [+3615 chars]\n",
      "https://www.foxbusiness.com/politics/lockheed-martin-awarded-navy-hypersonic-missile-contract-worth-over-1-billion\n",
      "************\n",
      "Facebook, Instagram plan blue check 'verified' service - DW (English)\n",
      "Deutsche Welle\n",
      "\"Meta Verified\" follows Twitter and other social media companies attempting to instill confidence in their services by asking users to pay to prove their identities.\n",
      "Facebook and Instagram's parent company, Meta, announced on Sunday it would test a paid subscription service.\r\n",
      "\"Meta Verified,\" available in Australia and New Zealand this week, would authenticate us… [+1585 chars]\n",
      "https://www.dw.com/en/facebook-instagram-plan-blue-check-verified-service/a-64757725\n",
      "************\n",
      "The most expensive home in the Caribbean just listed for $200 million – take a look inside - CNBC\n",
      "Ray Parisi\n",
      "The Terraces spans 17 acres and nine structures. It's located on the small private Caribbean island of Mustique.\n",
      "A palatial estate in the Caribbean was listed for a whopping $200 million Sunday evening, making it the most expensive home to ever hit the market in the region and one of the priciest homes for sale… [+6157 chars]\n",
      "https://www.cnbc.com/2023/02/19/most-expensive-home-in-the-caribbean-mustique.html\n",
      "************\n",
      "Kroger workers who quit are getting texts and emails from the company asking them to come back - Fortune\n",
      "Steve Mollman\n",
      "A tight labor market has bosses doing something they don't generally do: Asking workers who left to please return.\n",
      "Former Kroger employees who left the company have been getting some surprising texts and emails. The supermarket operatorthe nations largest by saleswants them back, and it isnt being shy about reach… [+2504 chars]\n",
      "https://fortune.com/2023/02/19/kroger-workers-who-quit-getting-texts-emails-from-company-to-return-amid-tight-labor-market-low-unemployment/\n",
      "************\n",
      "Disney petition: Employees rebel against Bob Iger's return to the office mandate - Daily Mail\n",
      "Hope Sloop\n",
      "Disney employees are pushing back against the mandate recently announced by CEO Bob Iger requiring them to return to the office four days a week.\n",
      "Disney employees are pushing back against the mandate recently announced by CEO Bob Iger requiring them to return to the office four days a week. \r\n",
      "More than 2,300 workers recently signed a petition … [+5682 chars]\n",
      "https://www.dailymail.co.uk/news/article-11770007/Disney-petition-Employees-rebel-against-Bob-Igers-return-office-mandate.html\n",
      "************\n",
      "CNBC Daily Open: Growth stocks look hot but investors should be wary - CNBC\n",
      "Yeo Boon Ping\n",
      "The Nasdaq had its sixth positive week in seven. Yet further interest rate hikes by the  Federal Reserve seem imminent. Markets may be too optimistic.\n",
      "This report is from today's CNBC Daily Open, our new, international markets newsletter. CNBC Daily Open brings investors up to speed on everything they need to know, no matter where they are. Like wh… [+1797 chars]\n",
      "https://www.cnbc.com/2023/02/20/stock-markets-growth-stocks-look-hot-but-investors-should-be-wary.html\n",
      "************\n",
      "Adani Maps Comeback Strategy After $132 Billion Hindenburg Rout - Bloomberg\n",
      "None\n",
      "None\n",
      "To continue, please click the box below to let us know you're not a robot.\n",
      "https://www.bloomberg.com/tosv2.html?vid=&uuid=6c4a6e7d-b0ca-11ed-ade2-48416d577966&url=L25ld3MvYXJ0aWNsZXMvMjAyMy0wMi0xOS9hZGFuaS1tYXBzLWNvbWViYWNrLXN0cmF0ZWd5LWFmdGVyLTEzMi1iaWxsaW9uLWhpbmRlbmJ1cmctcm91dA==\n",
      "************\n"
     ]
    }
   ],
   "source": [
    "print(f\"Se encontraron: {response1_json['totalResults']}\")\n",
    "\n",
    "for i in range(response1_json['totalResults']):\n",
    "    try:\n",
    "        print(f\"{response1_json['articles'][i]['title']}\")\n",
    "        print(f\"{response1_json['articles'][i]['author']}\")\n",
    "        print(f\"{response1_json['articles'][i]['description']}\")\n",
    "        print(f\"{response1_json['articles'][i]['content']}\")\n",
    "        print(f\"{response1_json['articles'][i]['url']}\")\n",
    "        print('************')\n",
    "    except:\n",
    "        pass"
   ]
  },
  {
   "cell_type": "code",
   "execution_count": null,
   "id": "c234f1f4",
   "metadata": {},
   "outputs": [],
   "source": []
  },
  {
   "cell_type": "markdown",
   "id": "07227f0c",
   "metadata": {},
   "source": [
    "### Now let´s incorporate flask to our API consumption "
   ]
  },
  {
   "cell_type": "markdown",
   "id": "e46acc0c",
   "metadata": {},
   "source": [
    "Now let´s consume the cat-fact API: https://cat-fact.herokuapp.com/facts"
   ]
  },
  {
   "cell_type": "markdown",
   "id": "8c33a365",
   "metadata": {},
   "source": [
    "So for this we obiously need to install flask "
   ]
  },
  {
   "cell_type": "code",
   "execution_count": 28,
   "id": "7ec2c38b",
   "metadata": {},
   "outputs": [
    {
     "name": "stdout",
     "output_type": "stream",
     "text": [
      "Defaulting to user installation because normal site-packages is not writeable\n",
      "Requirement already satisfied: flask in c:\\programdata\\anaconda3\\lib\\site-packages (1.1.2)\n",
      "Requirement already satisfied: Jinja2>=2.10.1 in c:\\programdata\\anaconda3\\lib\\site-packages (from flask) (2.11.3)\n",
      "Requirement already satisfied: Werkzeug>=0.15 in c:\\programdata\\anaconda3\\lib\\site-packages (from flask) (2.0.3)\n",
      "Requirement already satisfied: itsdangerous>=0.24 in c:\\programdata\\anaconda3\\lib\\site-packages (from flask) (2.0.1)\n",
      "Requirement already satisfied: click>=5.1 in c:\\programdata\\anaconda3\\lib\\site-packages (from flask) (8.0.4)\n",
      "Requirement already satisfied: colorama in c:\\programdata\\anaconda3\\lib\\site-packages (from click>=5.1->flask) (0.4.5)\n",
      "Requirement already satisfied: MarkupSafe>=0.23 in c:\\programdata\\anaconda3\\lib\\site-packages (from Jinja2>=2.10.1->flask) (2.0.1)\n",
      "Note: you may need to restart the kernel to use updated packages.\n"
     ]
    }
   ],
   "source": [
    "pip install flask "
   ]
  },
  {
   "cell_type": "markdown",
   "id": "12874d86",
   "metadata": {},
   "source": [
    "Then we also need to import flask "
   ]
  },
  {
   "cell_type": "code",
   "execution_count": 5,
   "id": "a71ecdbb",
   "metadata": {},
   "outputs": [],
   "source": [
    "from flask import Flask "
   ]
  },
  {
   "cell_type": "markdown",
   "id": "5c49cd5c",
   "metadata": {},
   "source": [
    "Then we need to create an instance with the flask app "
   ]
  },
  {
   "cell_type": "code",
   "execution_count": 8,
   "id": "cfafaa61",
   "metadata": {},
   "outputs": [],
   "source": [
    "app = Flask(__name__)"
   ]
  },
  {
   "cell_type": "markdown",
   "id": "37474bee",
   "metadata": {},
   "source": [
    "Then we create the endpoint(S) where our app will work "
   ]
  },
  {
   "cell_type": "code",
   "execution_count": 3,
   "id": "54976448",
   "metadata": {},
   "outputs": [
    {
     "name": "stdout",
     "output_type": "stream",
     "text": [
      "[{'status': {'verified': True, 'feedback': '', 'sentCount': 1}, '_id': '5887e1d85c873e0011036889', 'user': '5a9ac18c7478810ea6c06381', 'text': 'Cats make about 100 different sounds. Dogs make only about 10.', '__v': 0, 'source': 'user', 'updatedAt': '2020-09-03T16:39:39.578Z', 'type': 'cat', 'createdAt': '2018-01-15T21:20:00.003Z', 'deleted': False, 'used': True}, {'status': {'verified': True, 'sentCount': 1}, '_id': '588e746706ac2b00110e59ff', 'user': '588e6e8806ac2b00110e59c3', 'text': 'Domestic cats spend about 70 percent of the day sleeping and 15 percent of the day grooming.', '__v': 0, 'source': 'user', 'updatedAt': '2020-08-26T20:20:02.359Z', 'type': 'cat', 'createdAt': '2018-01-14T21:20:02.750Z', 'deleted': False, 'used': True}, {'status': {'verified': True, 'sentCount': 1}, '_id': '58923f2fc3878c0011784c79', 'user': '5887e9f65c873e001103688d', 'text': \"I don't know anything about cats.\", '__v': 0, 'source': 'user', 'updatedAt': '2020-08-23T20:20:01.611Z', 'type': 'cat', 'createdAt': '2018-02-25T21:20:03.060Z', 'deleted': False, 'used': False}, {'status': {'verified': True, 'sentCount': 1}, '_id': '5894af975cdc7400113ef7f9', 'user': '5a9ac18c7478810ea6c06381', 'text': 'The technical term for a cat’s hairball is a bezoar.', '__v': 0, 'source': 'user', 'updatedAt': '2020-11-25T21:20:03.895Z', 'type': 'cat', 'createdAt': '2018-02-27T21:20:02.854Z', 'deleted': False, 'used': True}, {'status': {'verified': True, 'sentCount': 1}, '_id': '58e007cc0aac31001185ecf5', 'user': '58e007480aac31001185ecef', 'text': 'Cats are the most popular pet in the United States: There are 88 million pet cats and 74 million dogs.', '__v': 0, 'source': 'user', 'updatedAt': '2020-08-23T20:20:01.611Z', 'type': 'cat', 'createdAt': '2018-03-01T21:20:02.713Z', 'deleted': False, 'used': False}]\n"
     ]
    }
   ],
   "source": [
    "cat_facts = requests.get(\"https://cat-fact.herokuapp.com/facts\").json()\n",
    "print(cat_facts) "
   ]
  },
  {
   "cell_type": "code",
   "execution_count": null,
   "id": "d8093d9d",
   "metadata": {},
   "outputs": [],
   "source": []
  },
  {
   "cell_type": "code",
   "execution_count": 9,
   "id": "614955ac",
   "metadata": {},
   "outputs": [],
   "source": [
    "@app.route(\"/consumiendoAPIgatos\")\n",
    "def info_gatos():\n",
    "    cat_facts = requests.get(\"https://cat-fact.herokuapp.com/facts\").json()\n",
    "    return cat_facts"
   ]
  },
  {
   "cell_type": "code",
   "execution_count": null,
   "id": "2dec2690",
   "metadata": {},
   "outputs": [],
   "source": [
    "app.run()"
   ]
  },
  {
   "cell_type": "code",
   "execution_count": null,
   "id": "a6bcd28c",
   "metadata": {},
   "outputs": [],
   "source": []
  },
  {
   "cell_type": "code",
   "execution_count": null,
   "id": "2e3d43b4",
   "metadata": {},
   "outputs": [
    {
     "name": "stdout",
     "output_type": "stream",
     "text": [
      " * Serving Flask app \"__main__\" (lazy loading)\n",
      " * Environment: production\n",
      "\u001b[31m   WARNING: This is a development server. Do not use it in a production deployment.\u001b[0m\n",
      "\u001b[2m   Use a production WSGI server instead.\u001b[0m\n",
      " * Debug mode: off\n"
     ]
    },
    {
     "name": "stderr",
     "output_type": "stream",
     "text": [
      " * Running on http://127.0.0.1:5000/ (Press CTRL+C to quit)\n",
      "127.0.0.1 - - [20/Feb/2023 01:44:57] \"GET / HTTP/1.1\" 404 -\n",
      "[2023-02-20 01:45:06,367] ERROR in app: Exception on /consumiendoAPIgatos [GET]\n",
      "Traceback (most recent call last):\n",
      "  File \"C:\\ProgramData\\Anaconda3\\lib\\site-packages\\flask\\app.py\", line 2447, in wsgi_app\n",
      "    response = self.full_dispatch_request()\n",
      "  File \"C:\\ProgramData\\Anaconda3\\lib\\site-packages\\flask\\app.py\", line 1953, in full_dispatch_request\n",
      "    return self.finalize_request(rv)\n",
      "  File \"C:\\ProgramData\\Anaconda3\\lib\\site-packages\\flask\\app.py\", line 1968, in finalize_request\n",
      "    response = self.make_response(rv)\n",
      "  File \"C:\\ProgramData\\Anaconda3\\lib\\site-packages\\flask\\app.py\", line 2127, in make_response\n",
      "    raise TypeError(\n",
      "TypeError: The view function did not return a valid response. The return type must be a string, dict, tuple, Response instance, or WSGI callable, but it was a list.\n",
      "127.0.0.1 - - [20/Feb/2023 01:45:06] \"GET /consumiendoAPIgatos HTTP/1.1\" 500 -\n",
      "[2023-02-20 01:45:13,733] ERROR in app: Exception on /consumiendoAPIgatos [GET]\n",
      "Traceback (most recent call last):\n",
      "  File \"C:\\ProgramData\\Anaconda3\\lib\\site-packages\\flask\\app.py\", line 2447, in wsgi_app\n",
      "    response = self.full_dispatch_request()\n",
      "  File \"C:\\ProgramData\\Anaconda3\\lib\\site-packages\\flask\\app.py\", line 1953, in full_dispatch_request\n",
      "    return self.finalize_request(rv)\n",
      "  File \"C:\\ProgramData\\Anaconda3\\lib\\site-packages\\flask\\app.py\", line 1968, in finalize_request\n",
      "    response = self.make_response(rv)\n",
      "  File \"C:\\ProgramData\\Anaconda3\\lib\\site-packages\\flask\\app.py\", line 2127, in make_response\n",
      "    raise TypeError(\n",
      "TypeError: The view function did not return a valid response. The return type must be a string, dict, tuple, Response instance, or WSGI callable, but it was a list.\n",
      "127.0.0.1 - - [20/Feb/2023 01:45:13] \"GET /consumiendoAPIgatos HTTP/1.1\" 500 -\n"
     ]
    }
   ],
   "source": [
    "import requests\n",
    "from flask import Flask\n",
    "\n",
    "app = Flask(__name__)\n",
    "\n",
    "@app.route(\"/consumiendoAPIgatos\")\n",
    "def info_gatos():\n",
    "    cat_facts = requests.get(\"https://cat-fact.herokuapp.com/facts\").json()\n",
    "    return cat_facts\n",
    "\n",
    "app.run()"
   ]
  },
  {
   "cell_type": "code",
   "execution_count": null,
   "id": "da7b1720",
   "metadata": {},
   "outputs": [],
   "source": []
  },
  {
   "cell_type": "markdown",
   "id": "037dcafc",
   "metadata": {},
   "source": [
    "### Consumiendo API con Python, usando flask y cambiando un dato de la respuesta "
   ]
  },
  {
   "cell_type": "code",
   "execution_count": null,
   "id": "5c26a8be",
   "metadata": {},
   "outputs": [
    {
     "name": "stdout",
     "output_type": "stream",
     "text": [
      " * Serving Flask app \"__main__\" (lazy loading)\n",
      " * Environment: production\n",
      "\u001b[31m   WARNING: This is a development server. Do not use it in a production deployment.\u001b[0m\n",
      "\u001b[2m   Use a production WSGI server instead.\u001b[0m\n",
      " * Debug mode: off\n"
     ]
    },
    {
     "name": "stderr",
     "output_type": "stream",
     "text": [
      " * Running on http://127.0.0.1:5000/ (Press CTRL+C to quit)\n",
      "127.0.0.1 - - [20/Feb/2023 01:53:19] \"GET / HTTP/1.1\" 404 -\n",
      "127.0.0.1 - - [20/Feb/2023 01:53:24] \"GET /consumiendoBusinessNews HTTP/1.1\" 200 -\n"
     ]
    }
   ],
   "source": [
    "import requests\n",
    "from flask import Flask\n",
    "\n",
    "app = Flask(__name__)\n",
    "\n",
    "api_key = '5981db7c44d644cdbd36f22175c165ff' \n",
    "\n",
    "@app.route(\"/consumiendoBusinessNews\")\n",
    "def info_business():\n",
    "    api_key = '5981db7c44d644cdbd36f22175c165ff' \n",
    "    info_business = requests.get(\"https://newsapi.org/v2/top-headlines?country=us&category=business&apiKey={api_key}\").json()\n",
    "    info_business['articles'][1]['name'] = \"CHANGING THE NAME OF THE FIRST ARTICLE\"\n",
    "    return info_business\n",
    "\n",
    "app.run()"
   ]
  },
  {
   "cell_type": "code",
   "execution_count": null,
   "id": "3dc7c55b",
   "metadata": {},
   "outputs": [],
   "source": []
  },
  {
   "cell_type": "code",
   "execution_count": null,
   "id": "a2abf9a9",
   "metadata": {},
   "outputs": [],
   "source": []
  }
 ],
 "metadata": {
  "kernelspec": {
   "display_name": "Python 3 (ipykernel)",
   "language": "python",
   "name": "python3"
  },
  "language_info": {
   "codemirror_mode": {
    "name": "ipython",
    "version": 3
   },
   "file_extension": ".py",
   "mimetype": "text/x-python",
   "name": "python",
   "nbconvert_exporter": "python",
   "pygments_lexer": "ipython3",
   "version": "3.9.13"
  }
 },
 "nbformat": 4,
 "nbformat_minor": 5
}
