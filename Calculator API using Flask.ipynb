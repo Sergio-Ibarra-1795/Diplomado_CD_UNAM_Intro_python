{
 "cells": [
  {
   "cell_type": "code",
   "execution_count": null,
   "id": "823f271c",
   "metadata": {},
   "outputs": [],
   "source": []
  },
  {
   "cell_type": "markdown",
   "id": "5a194896",
   "metadata": {},
   "source": [
    "#### Ejemoplo de lo que nos mandó el profe Ricardo "
   ]
  },
  {
   "cell_type": "code",
   "execution_count": 6,
   "id": "02eb25d1",
   "metadata": {},
   "outputs": [],
   "source": [
    "from flask import Flask, request\n",
    "\n",
    "app = Flask(__name__)\n",
    "\n",
    "#http://127.0.0.1:5000/suma?param1=1&param2=2\n",
    "@app.route(\"/suma\")\n",
    "def suma():\n",
    "    print(request.args)\n",
    "    param1 = request.args.get(\"param1\",0)\n",
    "    param2 = request.args.get(\"param2\",0)\n",
    "    # cuando queremos traernos un parametro en la dirección, le ponemos requests.\n",
    "    return {\"respuesta\": str(int(param1) + int(param2))}\n",
    "\n",
    "\n",
    "@app.route(\"/multiplicacion\")\n",
    "def multiplicacion():\n",
    "    param1 = request.args.get(\"param1\",0)\n",
    "    param2 = request.args.get(\"param2\",0)\n",
    "    # cuando queremos traernos un parametro en la dirección, le ponemos requests.\n",
    "    return {\"respuesta\": str(int(param1) * int(param2))}\n",
    "\n",
    "\n",
    "@app.route(\"/division\")\n",
    "def division():\n",
    "    param1 = request.args.get(\"param1\",0)\n",
    "    param2 = request.args.get(\"param2\",0)\n",
    "    # cuando queremos traernos un parametro en la dirección, le ponemos requests.\n",
    "    if param2 !=0:\n",
    "        return {\"respuesta\": str(int(param1) / int(param2))}\n",
    "    elif param2 ==0:\n",
    "        return {\"no_definida\": \"NA\"}\n",
    "    "
   ]
  },
  {
   "cell_type": "code",
   "execution_count": null,
   "id": "b92ed9f6",
   "metadata": {},
   "outputs": [
    {
     "name": "stdout",
     "output_type": "stream",
     "text": [
      " * Serving Flask app \"__main__\" (lazy loading)\n",
      " * Environment: production\n",
      "\u001b[31m   WARNING: This is a development server. Do not use it in a production deployment.\u001b[0m\n",
      "\u001b[2m   Use a production WSGI server instead.\u001b[0m\n",
      " * Debug mode: off\n"
     ]
    },
    {
     "name": "stderr",
     "output_type": "stream",
     "text": [
      " * Running on http://127.0.0.1:5000/ (Press CTRL+C to quit)\n",
      "127.0.0.1 - - [18/Feb/2023 13:48:36] \"GET / HTTP/1.1\" 404 -\n",
      "127.0.0.1 - - [18/Feb/2023 13:49:07] \"GET /division?param1=1&param2=2 HTTP/1.1\" 200 -\n",
      "127.0.0.1 - - [18/Feb/2023 13:57:29] \"GET /mean?param1=1&param2=2param3=3$param4=4 HTTP/1.1\" 404 -\n",
      "127.0.0.1 - - [18/Feb/2023 13:57:41] \"GET /mean?param1=1&param2=2param3=3&param4=4 HTTP/1.1\" 404 -\n",
      "127.0.0.1 - - [18/Feb/2023 13:57:54] \"GET /mean?param1=1&param2=2&param3=3&param4=4 HTTP/1.1\" 404 -\n",
      "127.0.0.1 - - [18/Feb/2023 13:57:59] \"GET /mean?param1=1&param2=2&param3=3&param4=4 HTTP/1.1\" 404 -\n"
     ]
    }
   ],
   "source": [
    "app.run()"
   ]
  },
  {
   "cell_type": "code",
   "execution_count": null,
   "id": "f84aa354",
   "metadata": {},
   "outputs": [],
   "source": []
  },
  {
   "cell_type": "code",
   "execution_count": null,
   "id": "02b0cf60",
   "metadata": {},
   "outputs": [],
   "source": [
    "from flask import Flask, request\n",
    "\n",
    "app = Flask(__name__)\n",
    "\n",
    "#http://127.0.0.1:5000/suma?param1=1&param2=2\n",
    "@app.route(\"/suma\")\n",
    "def suma():\n",
    "    print(request.args)\n",
    "    param1 = request.args.get(\"param1\",0)\n",
    "    param2 = request.args.get(\"param2\",0)\n",
    "    # cuando queremos traernos un parametro en la dirección, le ponemos requests.\n",
    "    return {\"respuesta\": str(int(param1) + int(param2))}\n",
    "\n",
    "\n",
    "@app.route(\"/multiplicacion\")\n",
    "def multiplicacion():\n",
    "    param1 = request.args.get(\"param1\",0)\n",
    "    param2 = request.args.get(\"param2\",0)\n",
    "    # cuando queremos traernos un parametro en la dirección, le ponemos requests.\n",
    "    return {\"respuesta\": str(int(param1) * int(param2))}\n",
    "\n",
    "\n",
    "@app.route(\"/division\")\n",
    "def division():\n",
    "    param1 = request.args.get(\"param1\",0)\n",
    "    param2 = request.args.get(\"param2\",0)\n",
    "    # cuando queremos traernos un parametro en la dirección, le ponemos requests.\n",
    "    if param2 !=0:\n",
    "        return {\"respuesta\": str(int(param1) / int(param2))}\n",
    "    elif param2 ==0:\n",
    "        return {\"no_definida\": \"NA\"}\n",
    "    \n",
    "    \n",
    "\n",
    "@app.route(\"/mean\")\n",
    "def division():\n",
    "    param1 = request.args.get(\"param1\",0)\n",
    "    param2 = request.args.get(\"param2\",0)\n",
    "    param3 = request.args.get(\"param3\",0)\n",
    "    param4 = request.args.get(\"param4\",0)\n",
    "    # cuando queremos traernos un parametro en la dirección, le ponemos requests.\n",
    "     return {\"respuesta\": mean(int(param1), int(param2), int(param3), int(param4))}\n"
   ]
  },
  {
   "cell_type": "code",
   "execution_count": null,
   "id": "2ed6805a",
   "metadata": {},
   "outputs": [],
   "source": [
    "app.run()"
   ]
  },
  {
   "cell_type": "code",
   "execution_count": null,
   "id": "84d8c4c8",
   "metadata": {},
   "outputs": [],
   "source": []
  }
 ],
 "metadata": {
  "kernelspec": {
   "display_name": "Python 3 (ipykernel)",
   "language": "python",
   "name": "python3"
  },
  "language_info": {
   "codemirror_mode": {
    "name": "ipython",
    "version": 3
   },
   "file_extension": ".py",
   "mimetype": "text/x-python",
   "name": "python",
   "nbconvert_exporter": "python",
   "pygments_lexer": "ipython3",
   "version": "3.9.13"
  }
 },
 "nbformat": 4,
 "nbformat_minor": 5
}
