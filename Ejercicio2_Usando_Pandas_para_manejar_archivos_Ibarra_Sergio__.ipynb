{
 "cells": [
  {
   "cell_type": "code",
   "execution_count": null,
   "id": "f771bbac",
   "metadata": {},
   "outputs": [],
   "source": []
  },
  {
   "cell_type": "markdown",
   "id": "a1177189",
   "metadata": {},
   "source": [
    "We will work with an excel sheet called: supermarkt_sales that has different information from invoice from 2021 from X company "
   ]
  },
  {
   "cell_type": "markdown",
   "id": "e0334dff",
   "metadata": {},
   "source": [
    "It is necessary to pen the Anaconda terminal and from there install these 3 packages"
   ]
  },
  {
   "cell_type": "code",
   "execution_count": null,
   "id": "315123d8",
   "metadata": {},
   "outputs": [],
   "source": [
    "pip install pandas openpyxl\n",
    "pip install plotly-express\n",
    "pip install streamlit"
   ]
  },
  {
   "cell_type": "markdown",
   "id": "fe834cc5",
   "metadata": {},
   "source": [
    "Let´s import the necessary packages"
   ]
  },
  {
   "cell_type": "code",
   "execution_count": 7,
   "id": "9f8ee6a2",
   "metadata": {},
   "outputs": [],
   "source": [
    "\n",
    "import pandas as pd  # pip install pandas openpyxl\n",
    "import plotly.express as px  # pip install plotly-express\n",
    "import streamlit as st  # pip install streamlit"
   ]
  },
  {
   "cell_type": "markdown",
   "id": "af6e43c6",
   "metadata": {},
   "source": [
    "Let´s make sure we are able to read the excel (take in count the excel sheet must be on the current working folder)"
   ]
  },
  {
   "cell_type": "code",
   "execution_count": 6,
   "id": "00ad7b8f",
   "metadata": {},
   "outputs": [
    {
     "name": "stdout",
     "output_type": "stream",
     "text": [
      "      Invoice ID Branch       City Customer_type  Gender  \\\n",
      "0    750-67-8428      A     Yangon        Member  Female   \n",
      "1    226-31-3081      C  Naypyitaw        Normal  Female   \n",
      "2    631-41-3108      A     Yangon        Normal    Male   \n",
      "3    123-19-1176      A     Yangon        Member    Male   \n",
      "4    373-73-7910      A     Yangon        Normal    Male   \n",
      "..           ...    ...        ...           ...     ...   \n",
      "995  233-67-5758      C  Naypyitaw        Normal    Male   \n",
      "996  303-96-2227      B   Mandalay        Normal  Female   \n",
      "997  727-02-1313      A     Yangon        Member    Male   \n",
      "998  347-56-2442      A     Yangon        Normal    Male   \n",
      "999  849-09-3807      A     Yangon        Member  Female   \n",
      "\n",
      "               Product line  Unit price  Quantity   Tax 5%      Total  \\\n",
      "0         Health and beauty       74.69         7  26.1415   548.9715   \n",
      "1    Electronic accessories       15.28         5   3.8200    80.2200   \n",
      "2        Home and lifestyle       46.33         7  16.2155   340.5255   \n",
      "3         Health and beauty       58.22         8  23.2880   489.0480   \n",
      "4         Sports and travel       86.31         7  30.2085   634.3785   \n",
      "..                      ...         ...       ...      ...        ...   \n",
      "995       Health and beauty       40.35         1   2.0175    42.3675   \n",
      "996      Home and lifestyle       97.38        10  48.6900  1022.4900   \n",
      "997      Food and beverages       31.84         1   1.5920    33.4320   \n",
      "998      Home and lifestyle       65.82         1   3.2910    69.1110   \n",
      "999     Fashion accessories       88.34         7  30.9190   649.2990   \n",
      "\n",
      "          Date      Time      Payment    cogs  gross margin percentage  \\\n",
      "0   2021-01-05  13:08:00      Ewallet  522.83                 4.761905   \n",
      "1   2021-03-08  10:29:00         Cash   76.40                 4.761905   \n",
      "2   2021-03-03  13:23:00  Credit card  324.31                 4.761905   \n",
      "3   2021-01-27  20:33:00      Ewallet  465.76                 4.761905   \n",
      "4   2021-02-08  10:37:00      Ewallet  604.17                 4.761905   \n",
      "..         ...       ...          ...     ...                      ...   \n",
      "995 2021-01-29  13:46:00      Ewallet   40.35                 4.761905   \n",
      "996 2021-03-02  17:16:00      Ewallet  973.80                 4.761905   \n",
      "997 2021-02-09  13:22:00         Cash   31.84                 4.761905   \n",
      "998 2021-02-22  15:33:00         Cash   65.82                 4.761905   \n",
      "999 2021-02-18  13:28:00         Cash  618.38                 4.761905   \n",
      "\n",
      "     gross income  Rating  \n",
      "0         26.1415     9.1  \n",
      "1          3.8200     9.6  \n",
      "2         16.2155     7.4  \n",
      "3         23.2880     8.4  \n",
      "4         30.2085     5.3  \n",
      "..            ...     ...  \n",
      "995        2.0175     6.2  \n",
      "996       48.6900     4.4  \n",
      "997        1.5920     7.7  \n",
      "998        3.2910     4.1  \n",
      "999       30.9190     6.6  \n",
      "\n",
      "[1000 rows x 17 columns]\n"
     ]
    }
   ],
   "source": [
    "\n",
    "df = pd.read_excel(\n",
    "    io=\"supermarkt_sales.xlsx\",\n",
    "    engine=\"openpyxl\",\n",
    "    sheet_name=\"Sales\",\n",
    "    skiprows=3,\n",
    "    usecols=\"B:R\",\n",
    "    nrows=1000,\n",
    "    )\n",
    "\n",
    "\n",
    "print(df)"
   ]
  },
  {
   "cell_type": "code",
   "execution_count": null,
   "id": "50d8a989",
   "metadata": {},
   "outputs": [],
   "source": []
  },
  {
   "cell_type": "markdown",
   "id": "0a075822",
   "metadata": {},
   "source": [
    "Now let´s \"create kind of a dashboard with this data\" "
   ]
  },
  {
   "cell_type": "markdown",
   "id": "1b8efc04",
   "metadata": {},
   "source": [
    "For this we will ise the st.set_page_config method from streamlit libray and give our page a title "
   ]
  },
  {
   "cell_type": "code",
   "execution_count": null,
   "id": "a29b1f7c",
   "metadata": {},
   "outputs": [],
   "source": []
  },
  {
   "cell_type": "code",
   "execution_count": 8,
   "id": "5761e6fa",
   "metadata": {},
   "outputs": [],
   "source": [
    "# emojis: https://www.webfx.com/tools/emoji-cheat-sheet/\n",
    "st.set_page_config(page_title=\"Sales Dashboard\", page_icon=\":bar_chart:\", layout=\"wide\")"
   ]
  },
  {
   "cell_type": "code",
   "execution_count": null,
   "id": "5c207bc4",
   "metadata": {},
   "outputs": [],
   "source": []
  },
  {
   "cell_type": "code",
   "execution_count": 9,
   "id": "6dc200b8",
   "metadata": {},
   "outputs": [
    {
     "name": "stderr",
     "output_type": "stream",
     "text": [
      "2023-02-20 02:33:09.036 \n",
      "  \u001b[33m\u001b[1mWarning:\u001b[0m to view this Streamlit app on a browser, run it with the following\n",
      "  command:\n",
      "\n",
      "    streamlit run C:\\ProgramData\\Anaconda3\\lib\\site-packages\\ipykernel_launcher.py [ARGUMENTS]\n"
     ]
    },
    {
     "data": {
      "text/plain": [
       "DeltaGenerator(_root_container=0, _provided_cursor=None, _parent=None, _block_type=None, _form_data=None)"
      ]
     },
     "execution_count": 9,
     "metadata": {},
     "output_type": "execute_result"
    }
   ],
   "source": [
    "st.set_page_config(page_title=\"Sales Dashboard\", page_icon=\":bar_chart:\", layout=\"wide\")\n",
    "\n",
    "df = pd.read_excel(\n",
    "    io=\"supermarkt_sales.xlsx\",\n",
    "    engine=\"openpyxl\",\n",
    "    sheet_name=\"Sales\",\n",
    "    skiprows=3,\n",
    "    usecols=\"B:R\",\n",
    "    nrows=1000,\n",
    "    )\n",
    "\n",
    "\n",
    "st.dataframe(df)"
   ]
  },
  {
   "cell_type": "code",
   "execution_count": 10,
   "id": "79b81ed8",
   "metadata": {},
   "outputs": [
    {
     "ename": "SyntaxError",
     "evalue": "invalid syntax (2617217866.py, line 1)",
     "output_type": "error",
     "traceback": [
      "\u001b[1;36m  File \u001b[1;32m\"C:\\Users\\Sergio\\AppData\\Local\\Temp\\ipykernel_10868\\2617217866.py\"\u001b[1;36m, line \u001b[1;32m1\u001b[0m\n\u001b[1;33m    streamlit run C:\\ProgramData\\Anaconda3\\lib\\site-packages\\ipykernel_launcher.py [ARGUMENTS]\u001b[0m\n\u001b[1;37m              ^\u001b[0m\n\u001b[1;31mSyntaxError\u001b[0m\u001b[1;31m:\u001b[0m invalid syntax\n"
     ]
    }
   ],
   "source": [
    "streamlit run C:\\ProgramData\\Anaconda3\\lib\\site-packages\\ipykernel_launcher.py [ARGUMENTS]"
   ]
  },
  {
   "cell_type": "code",
   "execution_count": 11,
   "id": "25e0f823",
   "metadata": {},
   "outputs": [
    {
     "ename": "SyntaxError",
     "evalue": "invalid syntax (3889123357.py, line 1)",
     "output_type": "error",
     "traceback": [
      "\u001b[1;36m  File \u001b[1;32m\"C:\\Users\\Sergio\\AppData\\Local\\Temp\\ipykernel_10868\\3889123357.py\"\u001b[1;36m, line \u001b[1;32m1\u001b[0m\n\u001b[1;33m    streamlit run C:\\Users\\Sergio\\Documents\\SIR_Personal_Dell\\Diplomado_DC_UNAM\\Diplomado_DC_UNAM_propedeutico\\Diplomado_DC_UNAM_self_git_Desktop_Dell\\Ejercicio2_Usando_Pandas_para_manejar_archivos_Ibarra_Sergio.ipynb\u001b[0m\n\u001b[1;37m              ^\u001b[0m\n\u001b[1;31mSyntaxError\u001b[0m\u001b[1;31m:\u001b[0m invalid syntax\n"
     ]
    }
   ],
   "source": [
    "streamlit run C:\\Users\\Sergio\\Documents\\SIR_Personal_Dell\\Diplomado_DC_UNAM\\Diplomado_DC_UNAM_propedeutico\\Diplomado_DC_UNAM_self_git_Desktop_Dell\\Ejercicio2_Usando_Pandas_para_manejar_archivos_Ibarra_Sergio.ipynb"
   ]
  },
  {
   "cell_type": "code",
   "execution_count": null,
   "id": "e1d2ff55",
   "metadata": {},
   "outputs": [],
   "source": []
  }
 ],
 "metadata": {
  "kernelspec": {
   "display_name": "Python 3",
   "language": "python",
   "name": "python3"
  },
  "language_info": {
   "codemirror_mode": {
    "name": "ipython",
    "version": 3
   },
   "file_extension": ".py",
   "mimetype": "text/x-python",
   "name": "python",
   "nbconvert_exporter": "python",
   "pygments_lexer": "ipython3",
   "version": "3.10.5"
  },
  "vscode": {
   "interpreter": {
    "hash": "012a3f856154b24f1153bf91a628b97e6f2eb77bb61013846ac8a83fabb585fb"
   }
  }
 },
 "nbformat": 4,
 "nbformat_minor": 5
}
