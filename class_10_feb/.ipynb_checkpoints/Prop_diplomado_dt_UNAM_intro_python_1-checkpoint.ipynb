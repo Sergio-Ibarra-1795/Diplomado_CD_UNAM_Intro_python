{
 "cells": [
  {
   "cell_type": "markdown",
   "id": "71408ce6",
   "metadata": {},
   "source": [
    "Este es mi primer código del propedeutico en Ciencia de datos de la UNAM"
   ]
  },
  {
   "cell_type": "markdown",
   "id": "dc8250fd",
   "metadata": {},
   "source": [
    "$$x^{3}$$"
   ]
  },
  {
   "cell_type": "markdown",
   "id": "52fd60b7",
   "metadata": {},
   "source": []
  },
  {
   "cell_type": "markdown",
   "id": "e008c651",
   "metadata": {},
   "source": [
    "Estoy intentando hacer ecuaciones \"tipo latex\" con jupyther notebook"
   ]
  },
  {
   "cell_type": "markdown",
   "id": "036b0d28",
   "metadata": {},
   "source": [
    "$$C_{k}^{n} = \\begin{pmatrix} n\\\\k \\end{pmatrix}$$"
   ]
  },
  {
   "cell_type": "markdown",
   "id": "dbcf1d40",
   "metadata": {},
   "source": [
    "Esta es por ejemplo la ecuación de la correlacion de pearson"
   ]
  },
  {
   "cell_type": "markdown",
   "id": "b49895e9",
   "metadata": {},
   "source": [
    "$$corelation = \\frac{cov(x,y)}{^{\\sqrt{\\\\sigma *sigma y}}}$$"
   ]
  },
  {
   "cell_type": "markdown",
   "id": "dd06ed83",
   "metadata": {},
   "source": [
    "Otra \"un poco más complejas\""
   ]
  },
  {
   "cell_type": "markdown",
   "id": "101ea8c7",
   "metadata": {},
   "source": [
    "$$corelation= \\frac{cov(x,y)}{^{\\sqrt{\\\\sigma *sigma y}}};  corelation= \\frac{\\sum_{i}^{n}(xi-\\mu(x) )^2- (yi-\\mu(y)) )^2}{^{\\sqrt{\\\\sigma *sigma y}}}$$; "
   ]
  },
  {
   "cell_type": "markdown",
   "id": "ba34acb1",
   "metadata": {},
   "source": [
    "Se pueden escribir también matrices !!"
   ]
  },
  {
   "cell_type": "markdown",
   "id": "dcd18f08",
   "metadata": {},
   "source": [
    "$$\\begin{pmatrix}\n",
    "\\frac{\\partial^2 (sin(e^x))) }{\\partial x^2} & \\frac{\\partial^2 (sin(e^x)))) }{\\partial x^2} & \\frac{\\partial^2 (sin(e^x))) }{\\partial x^2} \\\\ \n",
    "\\frac{\\partial^2 (sin(e^x))) }{\\partial x^2}  & \\frac{\\partial^2 (sin(e^x)))) }{\\partial x^2}  & \\frac{\\partial^2 (sin(e^x))) }{\\partial x^2}  \\\\ \n",
    "\\frac{\\partial^2 (sin(e^x))) }{\\partial x^2}  & \\frac{\\partial^2 (sin(e^x)))) }{\\partial x^2}  & \\frac{\\partial^2 (sin(e^x))) }{\\partial x^2} \n",
    "\\end{pmatrix}$$"
   ]
  },
  {
   "cell_type": "code",
   "execution_count": 1,
   "id": "8288b8c4",
   "metadata": {},
   "outputs": [
    {
     "name": "stdout",
     "output_type": "stream",
     "text": [
      "Requirement already satisfied: nbconvert in c:\\users\\sergi\\anaconda3\\lib\\site-packages (6.4.4)\n",
      "Requirement already satisfied: pygments>=2.4.1 in c:\\users\\sergi\\anaconda3\\lib\\site-packages (from nbconvert) (2.11.2)\n",
      "Requirement already satisfied: entrypoints>=0.2.2 in c:\\users\\sergi\\anaconda3\\lib\\site-packages (from nbconvert) (0.4)\n",
      "Requirement already satisfied: pandocfilters>=1.4.1 in c:\\users\\sergi\\anaconda3\\lib\\site-packages (from nbconvert) (1.5.0)\n",
      "Requirement already satisfied: beautifulsoup4 in c:\\users\\sergi\\anaconda3\\lib\\site-packages (from nbconvert) (4.11.1)\n",
      "Requirement already satisfied: defusedxml in c:\\users\\sergi\\anaconda3\\lib\\site-packages (from nbconvert) (0.7.1)\n",
      "Requirement already satisfied: jinja2>=2.4 in c:\\users\\sergi\\anaconda3\\lib\\site-packages (from nbconvert) (2.11.3)\n",
      "Requirement already satisfied: nbclient<0.6.0,>=0.5.0 in c:\\users\\sergi\\anaconda3\\lib\\site-packages (from nbconvert) (0.5.13)\n",
      "Requirement already satisfied: jupyterlab-pygments in c:\\users\\sergi\\anaconda3\\lib\\site-packages (from nbconvert) (0.1.2)\n",
      "Requirement already satisfied: jupyter-core in c:\\users\\sergi\\anaconda3\\lib\\site-packages (from nbconvert) (4.11.1)\n",
      "Requirement already satisfied: testpath in c:\\users\\sergi\\anaconda3\\lib\\site-packages (from nbconvert) (0.6.0)\n",
      "Requirement already satisfied: bleach in c:\\users\\sergi\\anaconda3\\lib\\site-packages (from nbconvert) (4.1.0)\n",
      "Requirement already satisfied: mistune<2,>=0.8.1 in c:\\users\\sergi\\anaconda3\\lib\\site-packages (from nbconvert) (0.8.4)\n",
      "Requirement already satisfied: nbformat>=4.4 in c:\\users\\sergi\\anaconda3\\lib\\site-packages (from nbconvert) (5.5.0)\n",
      "Requirement already satisfied: traitlets>=5.0 in c:\\users\\sergi\\anaconda3\\lib\\site-packages (from nbconvert) (5.1.1)\n",
      "Requirement already satisfied: MarkupSafe>=0.23 in c:\\users\\sergi\\anaconda3\\lib\\site-packages (from jinja2>=2.4->nbconvert) (2.0.1)\n",
      "Requirement already satisfied: nest-asyncio in c:\\users\\sergi\\anaconda3\\lib\\site-packages (from nbclient<0.6.0,>=0.5.0->nbconvert) (1.5.5)\n",
      "Requirement already satisfied: jupyter-client>=6.1.5 in c:\\users\\sergi\\anaconda3\\lib\\site-packages (from nbclient<0.6.0,>=0.5.0->nbconvert) (7.3.4)\n",
      "Requirement already satisfied: fastjsonschema in c:\\users\\sergi\\anaconda3\\lib\\site-packages (from nbformat>=4.4->nbconvert) (2.16.2)\n",
      "Requirement already satisfied: jsonschema>=2.6 in c:\\users\\sergi\\anaconda3\\lib\\site-packages (from nbformat>=4.4->nbconvert) (4.16.0)\n",
      "Requirement already satisfied: soupsieve>1.2 in c:\\users\\sergi\\anaconda3\\lib\\site-packages (from beautifulsoup4->nbconvert) (2.3.1)\n",
      "Requirement already satisfied: six>=1.9.0 in c:\\users\\sergi\\anaconda3\\lib\\site-packages (from bleach->nbconvert) (1.16.0)\n",
      "Requirement already satisfied: webencodings in c:\\users\\sergi\\anaconda3\\lib\\site-packages (from bleach->nbconvert) (0.5.1)\n",
      "Requirement already satisfied: packaging in c:\\users\\sergi\\anaconda3\\lib\\site-packages (from bleach->nbconvert) (21.3)\n",
      "Requirement already satisfied: pywin32>=1.0 in c:\\users\\sergi\\anaconda3\\lib\\site-packages (from jupyter-core->nbconvert) (302)\n",
      "Requirement already satisfied: pyrsistent!=0.17.0,!=0.17.1,!=0.17.2,>=0.14.0 in c:\\users\\sergi\\anaconda3\\lib\\site-packages (from jsonschema>=2.6->nbformat>=4.4->nbconvert) (0.18.0)\n",
      "Requirement already satisfied: attrs>=17.4.0 in c:\\users\\sergi\\anaconda3\\lib\\site-packages (from jsonschema>=2.6->nbformat>=4.4->nbconvert) (21.4.0)\n",
      "Requirement already satisfied: pyzmq>=23.0 in c:\\users\\sergi\\anaconda3\\lib\\site-packages (from jupyter-client>=6.1.5->nbclient<0.6.0,>=0.5.0->nbconvert) (23.2.0)\n",
      "Requirement already satisfied: python-dateutil>=2.8.2 in c:\\users\\sergi\\anaconda3\\lib\\site-packages (from jupyter-client>=6.1.5->nbclient<0.6.0,>=0.5.0->nbconvert) (2.8.2)\n",
      "Requirement already satisfied: tornado>=6.0 in c:\\users\\sergi\\anaconda3\\lib\\site-packages (from jupyter-client>=6.1.5->nbclient<0.6.0,>=0.5.0->nbconvert) (6.1)\n",
      "Requirement already satisfied: pyparsing!=3.0.5,>=2.0.2 in c:\\users\\sergi\\anaconda3\\lib\\site-packages (from packaging->bleach->nbconvert) (3.0.9)\n",
      "Note: you may need to restart the kernel to use updated packages.\n"
     ]
    }
   ],
   "source": [
    "pip install nbconvert"
   ]
  },
  {
   "cell_type": "code",
   "execution_count": 2,
   "id": "9ef63eec",
   "metadata": {
    "scrolled": true
   },
   "outputs": [
    {
     "name": "stdout",
     "output_type": "stream",
     "text": [
      "Requirement already satisfied: pandoc in c:\\users\\sergi\\anaconda3\\lib\\site-packages (2.3)Note: you may need to restart the kernel to use updated packages.\n",
      "\n",
      "Requirement already satisfied: ply in c:\\users\\sergi\\anaconda3\\lib\\site-packages (from pandoc) (3.11)\n",
      "Requirement already satisfied: plumbum in c:\\users\\sergi\\anaconda3\\lib\\site-packages (from pandoc) (1.8.1)\n",
      "Requirement already satisfied: pywin32 in c:\\users\\sergi\\anaconda3\\lib\\site-packages (from plumbum->pandoc) (302)\n"
     ]
    }
   ],
   "source": [
    "pip install pandoc"
   ]
  },
  {
   "cell_type": "code",
   "execution_count": 3,
   "id": "c2799e9a",
   "metadata": {},
   "outputs": [
    {
     "name": "stdout",
     "output_type": "stream",
     "text": [
      "Collecting package metadata (current_repodata.json): ...working... done\n",
      "Solving environment: ...working... done\n",
      "\n",
      "# All requested packages already installed.\n",
      "\n",
      "\n",
      "Note: you may need to restart the kernel to use updated packages.\n"
     ]
    }
   ],
   "source": [
    "conda install pandoc "
   ]
  },
  {
   "cell_type": "code",
   "execution_count": 4,
   "id": "29ca78df",
   "metadata": {},
   "outputs": [
    {
     "name": "stdout",
     "output_type": "stream",
     "text": [
      "Collecting package metadata (current_repodata.json): ...working... done\n",
      "Solving environment: ...working... done\n",
      "\n",
      "# All requested packages already installed.\n",
      "\n",
      "\n",
      "Note: you may need to restart the kernel to use updated packages.\n"
     ]
    }
   ],
   "source": [
    "conda install nbconvert"
   ]
  },
  {
   "cell_type": "code",
   "execution_count": 5,
   "id": "106e6704",
   "metadata": {},
   "outputs": [
    {
     "name": "stdout",
     "output_type": "stream",
     "text": [
      "Collecting package metadata (current_repodata.json): ...working... done\n",
      "Solving environment: ...working... done\n",
      "\n",
      "# All requested packages already installed.\n",
      "\n",
      "\n",
      "Note: you may need to restart the kernel to use updated packages.\n"
     ]
    }
   ],
   "source": [
    "conda install nbconvert[webpdf]"
   ]
  },
  {
   "cell_type": "code",
   "execution_count": 3,
   "id": "1feef7a4",
   "metadata": {},
   "outputs": [
    {
     "name": "stdout",
     "output_type": "stream",
     "text": [
      "Collecting package metadata (current_repodata.json): ...working... done\n",
      "Solving environment: ...working... done\n",
      "\n",
      "## Package Plan ##\n",
      "\n",
      "  environment location: C:\\Users\\sergi\\anaconda3\n",
      "\n",
      "  added / updated specs:\n",
      "    - pandoc\n",
      "\n",
      "\n",
      "The following packages will be downloaded:\n",
      "\n",
      "    package                    |            build\n",
      "    ---------------------------|-----------------\n",
      "    pandoc-2.19.2              |       h57928b3_1        18.8 MB  conda-forge\n",
      "    ------------------------------------------------------------\n",
      "                                           Total:        18.8 MB\n",
      "\n",
      "The following packages will be UPDATED:\n",
      "\n",
      "  pandoc                  pkgs/main::pandoc-2.12-haa95532_1 --> conda-forge::pandoc-2.19.2-h57928b3_1 \n",
      "\n",
      "\n",
      "\n",
      "Downloading and Extracting Packages\n",
      "\n",
      "pandoc-2.19.2        | 18.8 MB   |            |   0% \n",
      "pandoc-2.19.2        | 18.8 MB   |            |   0% \n",
      "pandoc-2.19.2        | 18.8 MB   |            |   1% \n",
      "pandoc-2.19.2        | 18.8 MB   | 2          |   3% \n",
      "pandoc-2.19.2        | 18.8 MB   | 7          |   7% \n",
      "pandoc-2.19.2        | 18.8 MB   | 9          |  10% \n",
      "pandoc-2.19.2        | 18.8 MB   | #1         |  12% \n",
      "pandoc-2.19.2        | 18.8 MB   | #6         |  16% \n",
      "pandoc-2.19.2        | 18.8 MB   | ##3        |  24% \n",
      "pandoc-2.19.2        | 18.8 MB   | ##7        |  27% \n",
      "pandoc-2.19.2        | 18.8 MB   | ###3       |  33% \n",
      "pandoc-2.19.2        | 18.8 MB   | ###7       |  38% \n",
      "pandoc-2.19.2        | 18.8 MB   | ####1      |  42% \n",
      "pandoc-2.19.2        | 18.8 MB   | ####5      |  46% \n",
      "pandoc-2.19.2        | 18.8 MB   | ####9      |  49% \n",
      "pandoc-2.19.2        | 18.8 MB   | #####2     |  53% \n",
      "pandoc-2.19.2        | 18.8 MB   | #####5     |  56% \n",
      "pandoc-2.19.2        | 18.8 MB   | #####9     |  59% \n",
      "pandoc-2.19.2        | 18.8 MB   | ######2    |  62% \n",
      "pandoc-2.19.2        | 18.8 MB   | ######5    |  66% \n",
      "pandoc-2.19.2        | 18.8 MB   | ######8    |  69% \n",
      "pandoc-2.19.2        | 18.8 MB   | #######2   |  72% \n",
      "pandoc-2.19.2        | 18.8 MB   | #######5   |  75% \n",
      "pandoc-2.19.2        | 18.8 MB   | #######8   |  78% \n",
      "pandoc-2.19.2        | 18.8 MB   | ########1  |  82% \n",
      "pandoc-2.19.2        | 18.8 MB   | ########4  |  85% \n",
      "pandoc-2.19.2        | 18.8 MB   | ########8  |  88% \n",
      "pandoc-2.19.2        | 18.8 MB   | #########1 |  91% \n",
      "pandoc-2.19.2        | 18.8 MB   | #########4 |  95% \n",
      "pandoc-2.19.2        | 18.8 MB   | #########7 |  98% \n",
      "pandoc-2.19.2        | 18.8 MB   | ########## | 100% \n",
      "                                                     \n",
      "\n",
      "\n",
      "Preparing transaction: ...working... done\n",
      "Verifying transaction: ...working... done\n",
      "Executing transaction: ...working... done\n",
      "\n",
      "Note: you may need to restart the kernel to use updated packages.\n"
     ]
    }
   ],
   "source": [
    "conda install -c conda-forge pandoc "
   ]
  },
  {
   "cell_type": "code",
   "execution_count": 3,
   "id": "1c7c3936",
   "metadata": {},
   "outputs": [
    {
     "data": {
      "text/plain": [
       "1073741824"
      ]
     },
     "execution_count": 3,
     "metadata": {},
     "output_type": "execute_result"
    }
   ],
   "source": [
    "2**30"
   ]
  },
  {
   "cell_type": "code",
   "execution_count": null,
   "id": "37333335",
   "metadata": {},
   "outputs": [],
   "source": []
  }
 ],
 "metadata": {
  "kernelspec": {
   "display_name": "Python 3 (ipykernel)",
   "language": "python",
   "name": "python3"
  },
  "language_info": {
   "codemirror_mode": {
    "name": "ipython",
    "version": 3
   },
   "file_extension": ".py",
   "mimetype": "text/x-python",
   "name": "python",
   "nbconvert_exporter": "python",
   "pygments_lexer": "ipython3",
   "version": "3.9.13"
  }
 },
 "nbformat": 4,
 "nbformat_minor": 5
}
