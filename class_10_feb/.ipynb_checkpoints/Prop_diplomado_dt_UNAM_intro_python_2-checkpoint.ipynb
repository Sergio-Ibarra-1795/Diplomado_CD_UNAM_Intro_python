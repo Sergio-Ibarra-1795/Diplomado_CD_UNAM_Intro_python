{
 "cells": [
  {
   "cell_type": "markdown",
   "id": "35866ec4",
   "metadata": {},
   "source": [
    "***Today is 11.Feb.2023***"
   ]
  },
  {
   "cell_type": "markdown",
   "id": "ebcbe9eb",
   "metadata": {},
   "source": [
    "*Sigo probando la belleza de jupyter para escribir ecuaciones y texto, por ejemplo para escribir ecuaciones \"enmedio\" de un texto*"
   ]
  },
  {
   "cell_type": "markdown",
   "id": "d64c9171",
   "metadata": {},
   "source": [
    "Se define entonces la Transformación lineal como una operación capaz de llevar un vector x de $\\Gamma :x^{n} \\mapsto x^m$"
   ]
  },
  {
   "cell_type": "markdown",
   "id": "3bb9e613",
   "metadata": {},
   "source": [
    "Esto es una maravilla, puedes hacer tablas con el!! "
   ]
  },
  {
   "cell_type": "markdown",
   "id": "1bdd2680",
   "metadata": {},
   "source": [
    "| Stretch/Untouched | ProbDistribution | Accuracy |\n",
    "| --- | --- | --- |\n",
    "| Stretched | Gaussian | .843 |"
   ]
  },
  {
   "cell_type": "markdown",
   "id": "7d2937d1",
   "metadata": {},
   "source": [
    "De 3 columnas"
   ]
  },
  {
   "cell_type": "markdown",
   "id": "f2f05e54",
   "metadata": {},
   "source": [
    "| Stretch/Untouched | ProbDistribution | Accuracy |\n",
    "| --- | --- | --- |\n",
    "| Stretched | Gaussian | .843 |\n",
    "| Other | Try | .5 |"
   ]
  },
  {
   "cell_type": "markdown",
   "id": "9b4d993d",
   "metadata": {},
   "source": [
    "De 4 columnas"
   ]
  },
  {
   "cell_type": "markdown",
   "id": "58fcf217",
   "metadata": {},
   "source": [
    "| {1,1} | {2,2}| {2,3}| {3,4}|\n",
    "| --- | --- | --- | --- |\n",
    "| Stretched | Gaussian | .843 | .777 |\n",
    "| Other | Try | .5 |.777 |"
   ]
  },
  {
   "cell_type": "markdown",
   "id": "825f3b46",
   "metadata": {},
   "source": [
    "De 5 columnas "
   ]
  },
  {
   "cell_type": "markdown",
   "id": "16e2d31f",
   "metadata": {},
   "source": [
    "| {1,1} | {2,2}| {2,3}| {3,4}|{4,4}|\n",
    "| --- | --- | --- | --- |--- |\n",
    "| Stretched | Gaussian | .843 | .777 |.777 |\n",
    "| Other | Try | .5 |.777 |.777 |"
   ]
  },
  {
   "cell_type": "markdown",
   "id": "a9cdbbc4",
   "metadata": {},
   "source": [
    "Intentando la tabla de la tarea"
   ]
  },
  {
   "cell_type": "markdown",
   "id": "3f5a507a",
   "metadata": {},
   "source": [
    "|  Elemento del espacio muestral  | 2| 3| 4| 5|6| 7| 8| 9| 10| 11| 12|\n",
    "| --- | --- | --- | --- |--- |--- |--- |--- |--- |--- |--- |--- |\n",
    "| Probabilidad asociada |1/36| 2/36| 3/36| 4/36|5/36| 6/36| 5/36| 4/36| 3/36| 2/36| 1/36|\n",
    "\n"
   ]
  },
  {
   "cell_type": "markdown",
   "id": "624c1c67",
   "metadata": {},
   "source": [
    "2.\tDe un grupo de 15 jugadores de futbol soccer, el entrenador debe seleccionar 11 para formar un equipo. Indica las formas diferentes en las que se puede formar el equipo si:"
   ]
  },
  {
   "cell_type": "markdown",
   "id": "e0c4daf5",
   "metadata": {},
   "source": [
    "a) No existe alguna restricción en las posiciones que pueden tomar. "
   ]
  },
  {
   "cell_type": "markdown",
   "id": "2b65b2c1",
   "metadata": {},
   "source": [
    "*Respuesta*: Si no existe restricción en las posiciones se usará la ecuación de combinaciones para determinar el número de equipos de 11 integrantes que se pueden formar a partir de 15 personas"
   ]
  },
  {
   "cell_type": "markdown",
   "id": "f33cb7b0",
   "metadata": {},
   "source": [
    "$$C_{k}^{n} = \\binom{n}{k} = \\frac{n!}{(n-k)! k!} =\\frac{15!}{(15-3)! 3!}$$"
   ]
  },
  {
   "cell_type": "markdown",
   "id": "cece2a96",
   "metadata": {},
   "source": [
    "1 y 2 CONSUMIENDO NUESTRA API DESDE PYTHON "
   ]
  },
  {
   "cell_type": "code",
   "execution_count": 1,
   "id": "079a3255",
   "metadata": {},
   "outputs": [
    {
     "name": "stdout",
     "output_type": "stream",
     "text": [
      "{'fact': 'A cat uses its whiskers for measuring distances.  The whiskers of a cat are capable of registering very small changes in air pressure.', 'length': 134}\n"
     ]
    }
   ],
   "source": [
    "import requests\n",
    "\n",
    "url = \"https://catfact.ninja/fact\"\n",
    "\n",
    "response = requests.get(url)\n",
    "\n",
    "if response.status_code == 200:\n",
    "    data = response.json()\n",
    "    print(data)\n",
    "else:\n",
    "    print(\"Failed to retrieve data, status code: \", response.status_code)"
   ]
  },
  {
   "cell_type": "markdown",
   "id": "8feaef75",
   "metadata": {},
   "source": [
    "3. Modifica de alguna forma la respuesta de esa API en un objeto de Python"
   ]
  },
  {
   "cell_type": "code",
   "execution_count": 7,
   "id": "4b1bb7b4",
   "metadata": {},
   "outputs": [
    {
     "name": "stdout",
     "output_type": "stream",
     "text": [
      "{'fact': 'It is estimated that cats can make over 60 different sounds.', 'length': 60}\n",
      "{'fact': 'MODIFICADO', 'lenght': 'modificado'}\n"
     ]
    }
   ],
   "source": [
    "import requests\n",
    "\n",
    "url = \"https://catfact.ninja/fact\"\n",
    "\n",
    "response = requests.get(url)\n",
    "\n",
    "if response.status_code == 200:\n",
    "    data = response.json()\n",
    "    modified_data = {'fact': 'MODIFICADO', 'lenght':'modificado'}\n",
    "    print(data)\n",
    "    print(modified_data)\n",
    "    \n",
    "else:\n",
    "    print(\"Failed to retrieve data, status code: \", response.status_code)"
   ]
  },
  {
   "cell_type": "markdown",
   "id": "369af232",
   "metadata": {},
   "source": [
    "4. Levanta un servidor de Flask en un código corrible como script"
   ]
  },
  {
   "cell_type": "code",
   "execution_count": null,
   "id": "7a23bb9a",
   "metadata": {},
   "outputs": [
    {
     "name": "stdout",
     "output_type": "stream",
     "text": [
      " * Serving Flask app \"__main__\" (lazy loading)\n",
      " * Environment: production\n",
      "\u001b[31m   WARNING: This is a development server. Do not use it in a production deployment.\u001b[0m\n",
      "\u001b[2m   Use a production WSGI server instead.\u001b[0m\n",
      " * Debug mode: off\n"
     ]
    },
    {
     "name": "stderr",
     "output_type": "stream",
     "text": [
      " * Running on http://127.0.0.1:5000/ (Press CTRL+C to quit)\n",
      "[2023-02-11 13:39:34,846] ERROR in app: Exception on / [GET]\n",
      "Traceback (most recent call last):\n",
      "  File \"C:\\Users\\sergi\\anaconda3\\lib\\site-packages\\flask\\app.py\", line 2447, in wsgi_app\n",
      "    response = self.full_dispatch_request()\n",
      "  File \"C:\\Users\\sergi\\anaconda3\\lib\\site-packages\\flask\\app.py\", line 1952, in full_dispatch_request\n",
      "    rv = self.handle_user_exception(e)\n",
      "  File \"C:\\Users\\sergi\\anaconda3\\lib\\site-packages\\flask\\app.py\", line 1821, in handle_user_exception\n",
      "    reraise(exc_type, exc_value, tb)\n",
      "  File \"C:\\Users\\sergi\\anaconda3\\lib\\site-packages\\flask\\_compat.py\", line 39, in reraise\n",
      "    raise value\n",
      "  File \"C:\\Users\\sergi\\anaconda3\\lib\\site-packages\\flask\\app.py\", line 1950, in full_dispatch_request\n",
      "    rv = self.dispatch_request()\n",
      "  File \"C:\\Users\\sergi\\anaconda3\\lib\\site-packages\\flask\\app.py\", line 1936, in dispatch_request\n",
      "    return self.view_functions[rule.endpoint](**req.view_args)\n",
      "  File \"C:\\Users\\sergi\\AppData\\Local\\Temp\\ipykernel_19024\\3525480579.py\", line 8, in hello_world\n",
      "    r= request.get(\"https://catfact.ninja/fact\")\n",
      "NameError: name 'request' is not defined\n",
      "127.0.0.1 - - [11/Feb/2023 13:39:34] \"GET / HTTP/1.1\" 500 -\n",
      "127.0.0.1 - - [11/Feb/2023 13:39:36] \"GET /favicon.ico HTTP/1.1\" 404 -\n"
     ]
    }
   ],
   "source": [
    "import requests\n",
    "from flask import Flask\n",
    "\n",
    "app = Flask(__name__)\n",
    "\n",
    "@app.route(\"/\")\n",
    "def hello_world():\n",
    "    r= request.get(\"https://catfact.ninja/fact\")\n",
    "    modified_data={'fact:modificado', 'lenght:modificado'}\n",
    "    r_data=r.json()\n",
    "    return r_data\n",
    "\n",
    "app.run()"
   ]
  },
  {
   "cell_type": "code",
   "execution_count": null,
   "id": "52185490",
   "metadata": {},
   "outputs": [],
   "source": []
  },
  {
   "cell_type": "code",
   "execution_count": null,
   "id": "696f7ad7",
   "metadata": {},
   "outputs": [],
   "source": [
    "import requests\n",
    "from flask import Flask, jsonify\n",
    "\n",
    "app = Flask(__name__)\n",
    "\n",
    "@app.route('/')\n",
    "def home():\n",
    "    return \"Welcome to the Cat Fact API!\"\n",
    "\n",
    "@app.route('/api/fact')\n",
    "def get_fact():\n",
    "    url = \"https://catfact.ninja/fact\"\n",
    "    response = requests.get(url)\n",
    "\n",
    "    if response.status_code == 200:\n",
    "        data = response.json()\n",
    "        fact = data['fact']\n",
    "        return jsonify({'fact': fact})\n",
    "    else:\n",
    "        return \"Failed to retrieve data, status code: {}\".format(response.status_code)\n",
    "\n",
    "if __name__ == '__main__':\n",
    "    app.run(debug=True)\n"
   ]
  },
  {
   "cell_type": "code",
   "execution_count": null,
   "id": "94513634",
   "metadata": {},
   "outputs": [],
   "source": [
    "app.run()"
   ]
  },
  {
   "cell_type": "code",
   "execution_count": null,
   "id": "132f3c3d",
   "metadata": {},
   "outputs": [],
   "source": []
  },
  {
   "cell_type": "markdown",
   "id": "2a900032",
   "metadata": {},
   "source": [
    "5. Modifica el servidor de Flask para que pueda contestar con el objeto que construiste con la llamada al servicio externo"
   ]
  },
  {
   "cell_type": "code",
   "execution_count": null,
   "id": "c13dcdba",
   "metadata": {},
   "outputs": [],
   "source": []
  }
 ],
 "metadata": {
  "kernelspec": {
   "display_name": "Python 3 (ipykernel)",
   "language": "python",
   "name": "python3"
  },
  "language_info": {
   "codemirror_mode": {
    "name": "ipython",
    "version": 3
   },
   "file_extension": ".py",
   "mimetype": "text/x-python",
   "name": "python",
   "nbconvert_exporter": "python",
   "pygments_lexer": "ipython3",
   "version": "3.9.13"
  }
 },
 "nbformat": 4,
 "nbformat_minor": 5
}
