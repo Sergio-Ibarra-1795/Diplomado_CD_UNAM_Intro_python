{
 "cells": [
  {
   "cell_type": "markdown",
   "id": "da3938d4",
   "metadata": {},
   "source": [
    "## Clase del curso propedeutico para ingreso al diplomado en Ciencia de Datos UNAM -17.Feb.2023-"
   ]
  },
  {
   "cell_type": "markdown",
   "id": "f1a35733",
   "metadata": {},
   "source": [
    "## Fundamentos de programación en Python "
   ]
  },
  {
   "cell_type": "code",
   "execution_count": null,
   "id": "4c0ec38d",
   "metadata": {},
   "outputs": [],
   "source": []
  },
  {
   "cell_type": "code",
   "execution_count": 1,
   "id": "baae5b06",
   "metadata": {},
   "outputs": [],
   "source": [
    "nombre = \"Chico\""
   ]
  },
  {
   "cell_type": "markdown",
   "id": "ceb7017a",
   "metadata": {},
   "source": [
    "### Tipos basicos de datos "
   ]
  },
  {
   "cell_type": "code",
   "execution_count": 3,
   "id": "95709c42",
   "metadata": {},
   "outputs": [],
   "source": [
    "numeros_enteros = 1 \n",
    "numeros_flotantes = 3.2426 \n",
    "strings = \"soy una string\"\n",
    "CONSTANTE = \"NO debo cambiar mi valor\"\n",
    "boolean_yes = True\n",
    "boolean_no = False\n"
   ]
  },
  {
   "cell_type": "markdown",
   "id": "81231688",
   "metadata": {},
   "source": [
    "## Otros tipos de datos "
   ]
  },
  {
   "cell_type": "code",
   "execution_count": 8,
   "id": "5a2b4ce3",
   "metadata": {},
   "outputs": [
    {
     "data": {
      "text/plain": [
       "list"
      ]
     },
     "execution_count": 8,
     "metadata": {},
     "output_type": "execute_result"
    }
   ],
   "source": [
    "lista = [\"Soy el elemento 0 de la lista\",\"Soy el elemento 1 de la lista\", \"Soy el elemento 2 de la lista\"]\n",
    "type(lista)\n"
   ]
  },
  {
   "cell_type": "code",
   "execution_count": 9,
   "id": "6fe4d246",
   "metadata": {},
   "outputs": [
    {
     "data": {
      "text/plain": [
       "tuple"
      ]
     },
     "execution_count": 9,
     "metadata": {},
     "output_type": "execute_result"
    }
   ],
   "source": [
    "## La tupla NO DEBE CAMBIAR SUS ELEMENTOS \"Es como una CONSTANTE SECUENCIAL\"\n",
    "tupla =(\"Yo no puedo cambiar mi valor\",\"Ni yo\")\n",
    "type(tupla) "
   ]
  },
  {
   "cell_type": "code",
   "execution_count": 12,
   "id": "df4a201a",
   "metadata": {},
   "outputs": [
    {
     "data": {
      "text/plain": [
       "{'Llave1': 'valor1', 'Llave2': 'valor2'}"
      ]
     },
     "execution_count": 12,
     "metadata": {},
     "output_type": "execute_result"
    }
   ],
   "source": [
    "dictionary= { \n",
    " \"Llave1\":\"valor1\",\n",
    " \"Llave2\":\"valor2\"}\n",
    "dictionary "
   ]
  },
  {
   "cell_type": "code",
   "execution_count": null,
   "id": "3b2575b2",
   "metadata": {},
   "outputs": [],
   "source": []
  },
  {
   "cell_type": "markdown",
   "id": "9a302fd5",
   "metadata": {},
   "source": [
    "#### Reto1: Crear una variable que tome un valor numerico que tu indiques y una constante de formato texto "
   ]
  },
  {
   "cell_type": "code",
   "execution_count": 6,
   "id": "96424716",
   "metadata": {},
   "outputs": [
    {
     "name": "stdout",
     "output_type": "stream",
     "text": [
      "Porfavor da un numero del 1 al 105\n"
     ]
    }
   ],
   "source": [
    "numero = input(\"Porfavor da un numero del 1 al 10\")\n",
    "numero_asNumero = int(numero)"
   ]
  },
  {
   "cell_type": "code",
   "execution_count": 7,
   "id": "17452c37",
   "metadata": {},
   "outputs": [],
   "source": [
    "COSNTANTE = \"El numero que legiste es:\"\n",
    "CONSTANTE2 =\"No elegiste el numero 5\""
   ]
  },
  {
   "cell_type": "code",
   "execution_count": 8,
   "id": "0ce3b5af",
   "metadata": {},
   "outputs": [
    {
     "name": "stdout",
     "output_type": "stream",
     "text": [
      "El numero que legiste es:5\n"
     ]
    }
   ],
   "source": [
    "print(COSNTANTE + numero)"
   ]
  },
  {
   "cell_type": "code",
   "execution_count": 10,
   "id": "3be7686f",
   "metadata": {},
   "outputs": [
    {
     "name": "stdout",
     "output_type": "stream",
     "text": [
      "El numero que legiste es:5!!\n"
     ]
    }
   ],
   "source": [
    "def identifica_numero5(number): \n",
    "    if number == 5:\n",
    "        print(COSNTANTE + numero + '!!')\n",
    "    else: \n",
    "        print(CONSTANTE2 + ', '+ 'El numero que elegiste es:' + numero)\n",
    "\n",
    "identifica_numero5(numero_asNumero)"
   ]
  },
  {
   "cell_type": "code",
   "execution_count": null,
   "id": "4c60a106",
   "metadata": {},
   "outputs": [],
   "source": []
  },
  {
   "cell_type": "markdown",
   "id": "a5a8f14d",
   "metadata": {},
   "source": [
    "Ejemplo de la compañera Veronica de una especie de \"funciones anidadas\""
   ]
  },
  {
   "cell_type": "code",
   "execution_count": null,
   "id": "d8b33e8f",
   "metadata": {},
   "outputs": [],
   "source": [
    "def Funcion_variable( ):\n",
    "    valor = int(input(\"Proporciona un numero:\"))\n",
    "    return valor\n",
    "\n",
    "def Funcion_suma(valor):\n",
    "    suma=valor+5\n",
    "    return suma"
   ]
  },
  {
   "cell_type": "code",
   "execution_count": null,
   "id": "03164c51",
   "metadata": {},
   "outputs": [],
   "source": []
  },
  {
   "cell_type": "code",
   "execution_count": null,
   "id": "23e71fa7",
   "metadata": {},
   "outputs": [],
   "source": []
  },
  {
   "cell_type": "markdown",
   "id": "dba268d1",
   "metadata": {},
   "source": [
    "#### Reto2: Crear unafunción que tome una variable y le sume 5. Despues deberá regresar ese valor "
   ]
  },
  {
   "cell_type": "code",
   "execution_count": 23,
   "id": "309f9c81",
   "metadata": {},
   "outputs": [],
   "source": [
    "numero2 = 7"
   ]
  },
  {
   "cell_type": "code",
   "execution_count": 24,
   "id": "fa7c5413",
   "metadata": {},
   "outputs": [],
   "source": [
    "def suma_5(numero):\n",
    "    resultado = numero+5\n",
    "    return resultado "
   ]
  },
  {
   "cell_type": "code",
   "execution_count": 25,
   "id": "7ac510da",
   "metadata": {},
   "outputs": [
    {
     "data": {
      "text/plain": [
       "12"
      ]
     },
     "execution_count": 25,
     "metadata": {},
     "output_type": "execute_result"
    }
   ],
   "source": [
    "suma_5(numero2)"
   ]
  },
  {
   "cell_type": "code",
   "execution_count": null,
   "id": "40073530",
   "metadata": {},
   "outputs": [],
   "source": []
  },
  {
   "cell_type": "code",
   "execution_count": null,
   "id": "cf5c0de4",
   "metadata": {},
   "outputs": [],
   "source": []
  },
  {
   "cell_type": "markdown",
   "id": "2538ffb9",
   "metadata": {},
   "source": [
    "### Metodos en Python "
   ]
  },
  {
   "cell_type": "code",
   "execution_count": null,
   "id": "27bb443b",
   "metadata": {},
   "outputs": [],
   "source": [
    "\"texto\".upper()"
   ]
  },
  {
   "cell_type": "code",
   "execution_count": null,
   "id": "f0fbf6ad",
   "metadata": {},
   "outputs": [],
   "source": []
  },
  {
   "cell_type": "markdown",
   "id": "88be85a5",
   "metadata": {},
   "source": [
    "### Reto 3: Cra un diciconario que contenga: Una llave con diccionartio dentro y otra llave con una lista dentro \n",
    "\n",
    "#### Luego imprime uno de los valores que están dentro de los objetos generados "
   ]
  },
  {
   "cell_type": "markdown",
   "id": "c7e6c0d9",
   "metadata": {},
   "source": [
    "Un diccionario es el valor de la llave de otro diccionario "
   ]
  },
  {
   "cell_type": "code",
   "execution_count": 15,
   "id": "7613159f",
   "metadata": {},
   "outputs": [],
   "source": [
    "futbol_diccionary = {\"Ligas\":{\"LaLiga\":\"Spain\",\n",
    "                              \"PrimeiraLiga\":\"Portugal\",\n",
    "                             \"Premier League\":\"England\",\n",
    "                             \"BundesLiga\":\"Germany\"},\n",
    "                    \"Rank\":[2,4,1,3]}\n"
   ]
  },
  {
   "cell_type": "code",
   "execution_count": 16,
   "id": "eac9060b",
   "metadata": {},
   "outputs": [
    {
     "data": {
      "text/plain": [
       "dict_values([{'LaLiga': 'Spain', 'PrimeiraLiga': 'Portugal', 'Premier League': 'England', 'BundesLiga': 'Germany'}, [2, 4, 1, 3]])"
      ]
     },
     "execution_count": 16,
     "metadata": {},
     "output_type": "execute_result"
    }
   ],
   "source": [
    "futbol_diccionary.keys()\n",
    "futbol_diccionary.values()\n"
   ]
  },
  {
   "cell_type": "code",
   "execution_count": 17,
   "id": "d4f45bc2",
   "metadata": {},
   "outputs": [
    {
     "data": {
      "text/plain": [
       "dict_keys(['Ligas', 'Rank'])"
      ]
     },
     "execution_count": 17,
     "metadata": {},
     "output_type": "execute_result"
    }
   ],
   "source": [
    "futbol_diccionary.keys()"
   ]
  },
  {
   "cell_type": "markdown",
   "id": "ccf3a13d",
   "metadata": {},
   "source": [
    "#### Accediendo a los datos del nested_dictionary "
   ]
  },
  {
   "cell_type": "code",
   "execution_count": 25,
   "id": "30a2438f",
   "metadata": {},
   "outputs": [
    {
     "data": {
      "text/plain": [
       "{'LaLiga': 'Spain',\n",
       " 'PrimeiraLiga': 'Portugal',\n",
       " 'Premier League': 'England',\n",
       " 'BundesLiga': 'Germany'}"
      ]
     },
     "execution_count": 25,
     "metadata": {},
     "output_type": "execute_result"
    }
   ],
   "source": [
    "futbol_diccionary['Ligas']"
   ]
  },
  {
   "cell_type": "code",
   "execution_count": 23,
   "id": "a3d97717",
   "metadata": {},
   "outputs": [
    {
     "data": {
      "text/plain": [
       "'Spain'"
      ]
     },
     "execution_count": 23,
     "metadata": {},
     "output_type": "execute_result"
    }
   ],
   "source": [
    "futbol_diccionary['Ligas'][\"LaLiga\"]"
   ]
  },
  {
   "cell_type": "code",
   "execution_count": 24,
   "id": "74538173",
   "metadata": {},
   "outputs": [
    {
     "data": {
      "text/plain": [
       "1"
      ]
     },
     "execution_count": 24,
     "metadata": {},
     "output_type": "execute_result"
    }
   ],
   "source": [
    "futbol_diccionary['Rank'][2]"
   ]
  },
  {
   "cell_type": "code",
   "execution_count": null,
   "id": "0166a0a4",
   "metadata": {},
   "outputs": [],
   "source": []
  },
  {
   "cell_type": "markdown",
   "id": "0e034a5d",
   "metadata": {},
   "source": [
    "##### Reto 4: Formemos una frase con 3 string differentes: a) Una que esté usando la función en mayusculas b) una que venga a partir de otro string(split)\n",
    "##### c) otra que venga de cortar (slicing) otra string"
   ]
  },
  {
   "cell_type": "code",
   "execution_count": 38,
   "id": "797d5f70",
   "metadata": {},
   "outputs": [],
   "source": [
    "string1_original = \"los pumas son el\""
   ]
  },
  {
   "cell_type": "code",
   "execution_count": 39,
   "id": "1a378e39",
   "metadata": {},
   "outputs": [],
   "source": [
    "string1_original_upper = string1_original.upper()"
   ]
  },
  {
   "cell_type": "code",
   "execution_count": 40,
   "id": "057621a7",
   "metadata": {},
   "outputs": [],
   "source": [
    "string2_original = \"MEJOR EQUIPO EN LA LIGA\""
   ]
  },
  {
   "cell_type": "code",
   "execution_count": 41,
   "id": "d7a9e3e8",
   "metadata": {},
   "outputs": [],
   "source": [
    "string3_original = \"DE MEXICO POR EJEMPLO, PUEDEN SER LOS PUMAS O LAS CHIVAS\""
   ]
  },
  {
   "cell_type": "code",
   "execution_count": 42,
   "id": "78834b2c",
   "metadata": {},
   "outputs": [
    {
     "data": {
      "text/plain": [
       "['MEJOR', 'EQUIPO', 'EN', 'LA', 'LIGA']"
      ]
     },
     "execution_count": 42,
     "metadata": {},
     "output_type": "execute_result"
    }
   ],
   "source": [
    "string2_split = string2_original.split()\n",
    "string2_split"
   ]
  },
  {
   "cell_type": "code",
   "execution_count": 43,
   "id": "0a24d2da",
   "metadata": {},
   "outputs": [
    {
     "data": {
      "text/plain": [
       "'LIGA'"
      ]
     },
     "execution_count": 43,
     "metadata": {},
     "output_type": "execute_result"
    }
   ],
   "source": [
    "string2_split_0 = string2_split[0]\n",
    "string2_split_0\n",
    "string2_split_1 = string2_split[1]\n",
    "string2_split_1\n",
    "string2_split_2 = string2_split[2]\n",
    "string2_split_2\n",
    "string2_split_3 = string2_split[3]\n",
    "string2_split_3\n",
    "string2_split_4 = string2_split[4]\n",
    "string2_split_4"
   ]
  },
  {
   "cell_type": "code",
   "execution_count": 44,
   "id": "7025436e",
   "metadata": {},
   "outputs": [
    {
     "data": {
      "text/plain": [
       "'DE MEXICO'"
      ]
     },
     "execution_count": 44,
     "metadata": {},
     "output_type": "execute_result"
    }
   ],
   "source": [
    "string3_slice= string3_original[0:9]\n",
    "string3_slice"
   ]
  },
  {
   "cell_type": "code",
   "execution_count": 46,
   "id": "02a12639",
   "metadata": {},
   "outputs": [
    {
     "data": {
      "text/plain": [
       "'LOS PUMAS SON EL MEJOR EQUIPO EN LA LIGA DE MEXICO'"
      ]
     },
     "execution_count": 46,
     "metadata": {},
     "output_type": "execute_result"
    }
   ],
   "source": [
    "frase_ganadora = string1_original_upper + \" \" + string2_split_0 + \" \" + string2_split_1 + \" \" +string2_split_2 + \" \" + string2_split_3 + \" \" +string2_split_4 + \" \" + string3_slice\n",
    "frase_ganadora "
   ]
  },
  {
   "cell_type": "code",
   "execution_count": null,
   "id": "92006c82",
   "metadata": {},
   "outputs": [],
   "source": []
  },
  {
   "cell_type": "markdown",
   "id": "87a62c48",
   "metadata": {},
   "source": [
    "### Ciclos en Python "
   ]
  },
  {
   "cell_type": "code",
   "execution_count": null,
   "id": "378965aa",
   "metadata": {},
   "outputs": [],
   "source": []
  },
  {
   "cell_type": "markdown",
   "id": "6380f60a",
   "metadata": {},
   "source": [
    "##### Crear un loop que vaya del 1 al 10, sumando 10 a cada nunmero "
   ]
  },
  {
   "cell_type": "code",
   "execution_count": 47,
   "id": "6763ffea",
   "metadata": {},
   "outputs": [],
   "source": [
    "n = 0 "
   ]
  },
  {
   "cell_type": "code",
   "execution_count": 48,
   "id": "ad915f41",
   "metadata": {},
   "outputs": [
    {
     "name": "stdout",
     "output_type": "stream",
     "text": [
      "1\n",
      "2\n",
      "3\n",
      "4\n",
      "5\n",
      "6\n",
      "7\n",
      "8\n",
      "9\n",
      "10\n"
     ]
    }
   ],
   "source": [
    "for i in range(10):\n",
    "    n = n+1 \n",
    "    print(n)"
   ]
  },
  {
   "cell_type": "code",
   "execution_count": null,
   "id": "bd685703",
   "metadata": {},
   "outputs": [],
   "source": []
  },
  {
   "cell_type": "code",
   "execution_count": null,
   "id": "1c151b3f",
   "metadata": {},
   "outputs": [],
   "source": []
  },
  {
   "cell_type": "markdown",
   "id": "43d67000",
   "metadata": {},
   "source": [
    "#### Manipulación de colecciones "
   ]
  },
  {
   "cell_type": "code",
   "execution_count": null,
   "id": "84d8b08c",
   "metadata": {},
   "outputs": [],
   "source": []
  },
  {
   "cell_type": "markdown",
   "id": "ff962393",
   "metadata": {},
   "source": [
    "##### Crear la misma función que dal 1 al 10 y sumandole un valor, pero ahora en formato de list comprehension "
   ]
  },
  {
   "cell_type": "code",
   "execution_count": 51,
   "id": "1c397b13",
   "metadata": {},
   "outputs": [],
   "source": [
    "n = 0 "
   ]
  },
  {
   "cell_type": "code",
   "execution_count": 52,
   "id": "7bafb324",
   "metadata": {},
   "outputs": [],
   "source": [
    "list_comprehension1 = []"
   ]
  },
  {
   "cell_type": "code",
   "execution_count": 56,
   "id": "da256408",
   "metadata": {},
   "outputs": [
    {
     "name": "stdout",
     "output_type": "stream",
     "text": [
      "1\n",
      "2\n",
      "3\n",
      "4\n",
      "5\n",
      "6\n",
      "7\n",
      "8\n",
      "9\n",
      "10\n"
     ]
    },
    {
     "ename": "SyntaxError",
     "evalue": "'return' outside function (218043911.py, line 5)",
     "output_type": "error",
     "traceback": [
      "\u001b[1;36m  File \u001b[1;32m\"C:\\Users\\Sergio\\AppData\\Local\\Temp\\ipykernel_12612\\218043911.py\"\u001b[1;36m, line \u001b[1;32m5\u001b[0m\n\u001b[1;33m    return list_comprehension1\u001b[0m\n\u001b[1;37m    ^\u001b[0m\n\u001b[1;31mSyntaxError\u001b[0m\u001b[1;31m:\u001b[0m 'return' outside function\n"
     ]
    }
   ],
   "source": [
    "for i in range(10):\n",
    "    n = n+1 \n",
    "    list_comprehension1.append(numero)\n",
    "    print(n)\n",
    "return list_comprehension1\n",
    "    "
   ]
  },
  {
   "cell_type": "code",
   "execution_count": null,
   "id": "0f76650a",
   "metadata": {},
   "outputs": [],
   "source": []
  },
  {
   "cell_type": "code",
   "execution_count": null,
   "id": "5d7090a8",
   "metadata": {},
   "outputs": [],
   "source": []
  },
  {
   "cell_type": "code",
   "execution_count": null,
   "id": "d553211c",
   "metadata": {},
   "outputs": [],
   "source": []
  },
  {
   "cell_type": "code",
   "execution_count": null,
   "id": "f177a024",
   "metadata": {},
   "outputs": [],
   "source": []
  },
  {
   "cell_type": "markdown",
   "id": "2728bbeb",
   "metadata": {},
   "source": [
    "#### Reto 7 Programa una linea de codigo que flle y rescatala de un fallo "
   ]
  },
  {
   "cell_type": "code",
   "execution_count": null,
   "id": "6e32d6f5",
   "metadata": {},
   "outputs": [],
   "source": []
  },
  {
   "cell_type": "code",
   "execution_count": 57,
   "id": "2494a5ec",
   "metadata": {},
   "outputs": [
    {
     "name": "stdout",
     "output_type": "stream",
     "text": [
      "Error: Division by zero\n"
     ]
    }
   ],
   "source": [
    "try:\n",
    "    x = 5/0\n",
    "except ZeroDivisionError:\n",
    "    print(\"Error: Division by zero\")\n"
   ]
  },
  {
   "cell_type": "code",
   "execution_count": null,
   "id": "1adf94c2",
   "metadata": {},
   "outputs": [],
   "source": []
  },
  {
   "cell_type": "code",
   "execution_count": null,
   "id": "4bac54c2",
   "metadata": {},
   "outputs": [],
   "source": []
  },
  {
   "cell_type": "code",
   "execution_count": null,
   "id": "8aa63f12",
   "metadata": {},
   "outputs": [],
   "source": []
  }
 ],
 "metadata": {
  "kernelspec": {
   "display_name": "Python 3 (ipykernel)",
   "language": "python",
   "name": "python3"
  },
  "language_info": {
   "codemirror_mode": {
    "name": "ipython",
    "version": 3
   },
   "file_extension": ".py",
   "mimetype": "text/x-python",
   "name": "python",
   "nbconvert_exporter": "python",
   "pygments_lexer": "ipython3",
   "version": "3.9.13"
  }
 },
 "nbformat": 4,
 "nbformat_minor": 5
}
